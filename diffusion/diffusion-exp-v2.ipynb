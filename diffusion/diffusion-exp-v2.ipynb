{
 "cells": [
  {
   "cell_type": "code",
   "execution_count": 1,
   "metadata": {},
   "outputs": [],
   "source": [
    "import sys\n",
    "import os\n",
    "\n",
    "path = os.path.abspath(os.path.join('..'))\n",
    "if path not in sys.path:\n",
    "    sys.path.append(path)"
   ]
  },
  {
   "cell_type": "code",
   "execution_count": 2,
   "metadata": {},
   "outputs": [
    {
     "data": {
      "text/plain": [
       "1560"
      ]
     },
     "execution_count": 2,
     "metadata": {},
     "output_type": "execute_result"
    }
   ],
   "source": [
    "from diffusion.data_loaders.spinkick_dataset import SpinkickMotionDataset\n",
    "dataset = SpinkickMotionDataset(\"/home/kenji/Fyp/DeepMimic_mujoco/diffusion/data/motions/humanoid3d_spinkick.txt\")\n",
    "len(dataset)"
   ]
  },
  {
   "cell_type": "code",
   "execution_count": 4,
   "metadata": {},
   "outputs": [
    {
     "data": {
      "text/plain": [
       "torch.Size([78, 35])"
      ]
     },
     "execution_count": 4,
     "metadata": {},
     "output_type": "execute_result"
    }
   ],
   "source": [
    "x = dataset[0]\n",
    "\n",
    "x.shape"
   ]
  },
  {
   "cell_type": "markdown",
   "metadata": {},
   "source": [
    "### Model NN"
   ]
  },
  {
   "cell_type": "code",
   "execution_count": 6,
   "metadata": {},
   "outputs": [],
   "source": [
    "import numpy as np\n",
    "import torch\n",
    "import torch.nn as nn\n",
    "import torch.nn.functional as F\n",
    "\n",
    "class PositionalEncoding(nn.Module):\n",
    "    def __init__(self, d_model, dropout=0.1, max_len=1000):\n",
    "        super(PositionalEncoding, self).__init__()\n",
    "        self.dropout = nn.Dropout(p=dropout)\n",
    "\n",
    "        pe = torch.zeros(max_len, d_model)\n",
    "        position = torch.arange(0, max_len, dtype=torch.float).unsqueeze(1)\n",
    "        div_term = torch.exp(torch.arange(0, d_model, 2).float() * (-np.log(10000.0) / d_model))\n",
    "        pe[:, 0::2] = torch.sin(position * div_term)\n",
    "        pe[:, 1::2] = torch.cos(position * div_term)\n",
    "        pe = pe.unsqueeze(0).transpose(0, 1)\n",
    "\n",
    "        self.register_buffer('pe', pe)\n",
    "\n",
    "    def forward(self, x):\n",
    "        # not used in the final model\n",
    "        x = x + self.pe[:x.shape[0], :]\n",
    "        return self.dropout(x)\n",
    "\n",
    "\n",
    "class TimestepEmbedder(nn.Module):\n",
    "    def __init__(self, latent_dim, sequence_pos_encoder):\n",
    "        super().__init__()\n",
    "        self.latent_dim = latent_dim\n",
    "        self.sequence_pos_encoder = sequence_pos_encoder\n",
    "\n",
    "        time_embed_dim = self.latent_dim\n",
    "        self.time_embed = nn.Sequential(\n",
    "            nn.Linear(self.latent_dim, time_embed_dim),\n",
    "            nn.SiLU(),\n",
    "            nn.Linear(time_embed_dim, time_embed_dim),\n",
    "        )\n",
    "\n",
    "    def forward(self, timesteps):\n",
    "        return self.time_embed(self.sequence_pos_encoder.pe[timesteps])"
   ]
  },
  {
   "cell_type": "code",
   "execution_count": 15,
   "metadata": {},
   "outputs": [],
   "source": [
    "\n",
    "class MotionTransformer(nn.Module):\n",
    "    def __init__(self, pos_dim, vel_dim, latent_dim=256, ff_size=1024, num_layers=8, num_heads=4, dropout=0.1, activation=\"gelu\"):\n",
    "        super(MotionTransformer, self).__init__()\n",
    "        \n",
    "        # self.nfeats = nfeats\n",
    "        self.pos_dim = pos_dim\n",
    "        self.vel_dim = vel_dim\n",
    "        self.latent_dim = latent_dim\n",
    "        self.ff_size = ff_size  \n",
    "        self.dropout = dropout\n",
    "\n",
    "        self.posInEmbedding = nn.Linear(self.pos_dim, self.latent_dim)\n",
    "        self.velInEmbedding = nn.Linear(self.vel_dim, self.latent_dim)\n",
    "        self.sequence_pos_encoder = PositionalEncoding(self.latent_dim, self.dropout)\n",
    "        self.embed_timestep = TimestepEmbedder(self.latent_dim, self.sequence_pos_encoder)\n",
    "\n",
    "        # Transformer Encoder\n",
    "        encoder_layers = nn.TransformerEncoderLayer(d_model=self.latent_dim, nhead=num_heads, \n",
    "                                                    dim_feedforward=ff_size, dropout=dropout, activation=activation, batch_first=True)\n",
    "        self.transformer_encoder = nn.TransformerEncoder(encoder_layers, num_layers=num_layers)\n",
    "\n",
    "        # Output Linear Layer\n",
    "        self.posOutEmbedding = nn.Linear(self.latent_dim, self.pos_dim)\n",
    "        self.velOutEmbedding = nn.Linear(self.latent_dim, self.vel_dim)\n",
    "\n",
    "    def forward(self, x: torch.Tensor, timesteps, y=None):\n",
    "        \"\"\"\n",
    "        x: [batch_size, max_frames, n_feats], denoted x_t in the paper\n",
    "        timesteps: [batch_size] (int)\n",
    "        \"\"\"\n",
    "        # x: [batch_size, seq_len, nfeats]\n",
    "        emb = self.embed_timestep(timesteps)  # [bs, n_frames, time_embed_dim]\n",
    "        # print(\"Emb\", emb.shape)\n",
    "\n",
    "        # Input process\n",
    "        first_pos = x[:, [0], :]\n",
    "        # print(\"First Pos\", first_pos.shape)\n",
    "        rest_vel = x[:, 1:, :]\n",
    "        # print(\"Rest Vel\", rest_vel.shape)\n",
    "\n",
    "        first_pos = self.posInEmbedding(first_pos)  # [bs, 1, n_dim]\n",
    "        rest_vel = self.velInEmbedding(rest_vel)  # [bs, n_frames-1, n_dim]\n",
    "        x = torch.cat((first_pos, rest_vel), axis=1)  # [bs, n_frames, n_dim]\n",
    "        # print(\"Input Embedding\", x.shape)\n",
    "\n",
    "        # Transformer Encoder\n",
    "        # adding the timestep embed\n",
    "        xseq = torch.cat((emb, x), axis=1)  # [bs, n_frames+1, n_dim]\n",
    "        # print(\"Concat x and zkx\", xseq.shape)\n",
    "\n",
    "        xseq = self.sequence_pos_encoder(xseq)  # [bs, n_frames+1, n_dim]\n",
    "        # print(\"Sequence Pos Encoder\", xseq.shape)\n",
    "        \n",
    "        output = self.transformer_encoder(xseq)[:, 1:, :]  # , src_key_padding_mask=~maskseq)  # [bs, n_frames, n_dim]\n",
    "        # print(\"Transformer Encoder\", output.shape)\n",
    "\n",
    "        # Output Linear\n",
    "        final_pos = self.posOutEmbedding(output[:, [0], :])  # [bs, 1, pos_dim]\n",
    "        final_vels = self.velOutEmbedding(output[:, 1:, :])  # [bs, n_frames-1, n_feats]\n",
    "        output = torch.cat((final_pos, final_vels), axis=1)\n",
    "        # print(\"Output Embedding\", output.shape)\n",
    "\n",
    "        return output"
   ]
  },
  {
   "cell_type": "code",
   "execution_count": 16,
   "metadata": {},
   "outputs": [],
   "source": [
    "import torch.optim as optim\n",
    "from torch.utils.data import DataLoader\n",
    "\n",
    "batch_size = 1\n",
    "dataloader = DataLoader(\n",
    "        dataset, batch_size=batch_size, shuffle=True,\n",
    "        num_workers=8, drop_last=True)\n",
    "\n",
    "pos_dim = vel_dim = dataset[0].shape[1]\n",
    "\n",
    "device = torch.device(\"cuda:0\" if torch.cuda.is_available() else \"cpu\")\n",
    "model = MotionTransformer(pos_dim=pos_dim, vel_dim=vel_dim, latent_dim=64, ff_size=256, num_layers=8, num_heads=4, dropout=0.1, activation=\"gelu\").to(device)"
   ]
  },
  {
   "cell_type": "code",
   "execution_count": 17,
   "metadata": {},
   "outputs": [
    {
     "data": {
      "text/plain": [
       "torch.Size([1, 78, 35])"
      ]
     },
     "execution_count": 17,
     "metadata": {},
     "output_type": "execute_result"
    }
   ],
   "source": [
    "test_sample = dataset[0].unsqueeze(0).to(device)    \n",
    "res = model(test_sample, torch.tensor([0]).to(device))\n",
    "\n",
    "res.shape"
   ]
  },
  {
   "cell_type": "code",
   "execution_count": 18,
   "metadata": {},
   "outputs": [],
   "source": [
    "from diffusion.diffusion import gaussian_diffusion as gd\n",
    "from diffusion.diffusion.respace import SpacedDiffusion, space_timesteps\n",
    "\n",
    "def create_gaussian_diffusion(\n",
    "        diffusion_steps, # number eg 1000\n",
    "        noise_schedule, # can be 'linear', 'cosine'\n",
    "        sigma_small, # default True\n",
    "        lambda_vel, lambda_rcxyz, lambda_fc # for geometric loss, we don't have fc, default 1 for rest\n",
    "        ):\n",
    "    # default params\n",
    "    predict_xstart = True  # we always predict x_start (a.k.a. x0), that's our deal!\n",
    "    steps = diffusion_steps\n",
    "    scale_beta = 1.  # no scaling\n",
    "    timestep_respacing = ''  # can be used for ddim sampling, we don't use it.\n",
    "    learn_sigma = False\n",
    "    rescale_timesteps = False\n",
    "\n",
    "    betas = gd.get_named_beta_schedule(noise_schedule, steps, scale_beta)\n",
    "    loss_type = gd.LossType.MSE\n",
    "\n",
    "    if not timestep_respacing:\n",
    "        timestep_respacing = [steps]\n",
    "\n",
    "    return SpacedDiffusion(\n",
    "        use_timesteps=space_timesteps(steps, timestep_respacing),\n",
    "        betas=betas,\n",
    "        model_mean_type=(\n",
    "            gd.ModelMeanType.EPSILON if not predict_xstart else gd.ModelMeanType.START_X\n",
    "        ),\n",
    "        model_var_type=(\n",
    "            (\n",
    "                gd.ModelVarType.FIXED_LARGE\n",
    "                if not sigma_small\n",
    "                else gd.ModelVarType.FIXED_SMALL\n",
    "            )\n",
    "            if not learn_sigma\n",
    "            else gd.ModelVarType.LEARNED_RANGE\n",
    "        ),\n",
    "        loss_type=loss_type,\n",
    "        rescale_timesteps=rescale_timesteps,\n",
    "        lambda_vel=lambda_vel,\n",
    "        lambda_rcxyz=lambda_rcxyz,\n",
    "        lambda_fc=lambda_fc,\n",
    "    )"
   ]
  },
  {
   "cell_type": "code",
   "execution_count": 19,
   "metadata": {},
   "outputs": [],
   "source": [
    "model = MotionTransformer(pos_dim=pos_dim, vel_dim=vel_dim, latent_dim=64, ff_size=256, num_layers=8, num_heads=4, dropout=0.1, activation=\"gelu\").to(device)\n",
    "diffusion = create_gaussian_diffusion(diffusion_steps=1000, noise_schedule=\"cosine\", sigma_small=True, lambda_vel=1, lambda_rcxyz=1, lambda_fc=1)"
   ]
  },
  {
   "cell_type": "code",
   "execution_count": 20,
   "metadata": {},
   "outputs": [],
   "source": [
    "class DefaultArgs:\n",
    "    def __init__(self, save_dir, model_path, eval_model_path):\n",
    "        # Base options\n",
    "        self.cuda = True\n",
    "        self.device = \"cuda:0\" if torch.cuda.is_available() else \"cpu\"\n",
    "        self.seed = 10\n",
    "        self.batch_size = 1\n",
    "\n",
    "        # Diffusion options\n",
    "        self.noise_schedule = 'cosine'\n",
    "        self.diffusion_steps = 1000\n",
    "        self.sigma_small = True\n",
    "\n",
    "        # Model options\n",
    "        self.arch = 'trans_enc'\n",
    "        self.emb_trans_dec = False\n",
    "        self.layers = 8\n",
    "        self.latent_dim = 512\n",
    "        self.cond_mask_prob = 0.1\n",
    "        self.lambda_rcxyz = 0.0\n",
    "        self.lambda_vel = 0.0\n",
    "        self.lambda_fc = 0.0\n",
    "        self.unconstrained = False  # This is inferred from the 'action' parameter\n",
    "\n",
    "        # Data options\n",
    "        self.dataset = 'humanml'\n",
    "        self.data_dir = \"\"\n",
    "\n",
    "        # Training options\n",
    "        self.save_dir = save_dir\n",
    "        self.overwrite = False\n",
    "        self.train_platform_type = 'NoPlatform'\n",
    "        self.lr = 1e-4\n",
    "        self.weight_decay = 0.0\n",
    "        self.lr_anneal_steps = 0\n",
    "        self.eval_batch_size = 16\n",
    "        self.eval_split = 'test'\n",
    "        self.eval_during_training = False\n",
    "        self.eval_rep_times = 3\n",
    "        self.eval_num_samples = 1000\n",
    "        self.log_interval = 1000\n",
    "        self.save_interval = 5000\n",
    "        self.num_steps = 30000\n",
    "        # self.num_frames = 29\n",
    "        self.resume_checkpoint = \"\"\n",
    "\n",
    "        # Sampling options\n",
    "        self.model_path = model_path\n",
    "        self.output_dir = ''\n",
    "        self.num_samples = 10\n",
    "        self.num_repetitions = 3\n",
    "        self.guidance_param = 2.5\n",
    "\n",
    "        # Generate options\n",
    "        self.motion_length = 6.0\n",
    "        self.input_text = ''\n",
    "        self.action_file = ''\n",
    "        self.text_prompt = ''\n",
    "        self.action_name = ''\n",
    "\n",
    "        # Edit options\n",
    "        self.edit_mode = 'in_between'\n",
    "        self.text_condition = ''\n",
    "        self.prefix_end = 0.25\n",
    "        self.suffix_start = 0.75\n",
    "\n",
    "        # Evaluation options\n",
    "        self.eval_model_path = eval_model_path\n",
    "        self.eval_mode = 'wo_mm'\n",
    "        self.eval_guidance_param = 2.5\n"
   ]
  },
  {
   "cell_type": "code",
   "execution_count": 21,
   "metadata": {},
   "outputs": [
    {
     "data": {
      "text/plain": [
       "'cuda:0'"
      ]
     },
     "execution_count": 21,
     "metadata": {},
     "output_type": "execute_result"
    }
   ],
   "source": [
    "expname = \"model-v2\"\n",
    "\n",
    "args = DefaultArgs(save_dir=f\"/home/kenji/Fyp/DeepMimic_mujoco/diffusion/logs/{expname}\", model_path=f\"/home/kenji/Fyp/DeepMimic_mujoco/diffusion/logs/{expname}/model.pt\", eval_model_path=f\"/home/kenji/Fyp/DeepMimic_mujoco/diffusion/logs/{expname}/model.pt\")\n",
    "args.device"
   ]
  },
  {
   "cell_type": "code",
   "execution_count": 22,
   "metadata": {},
   "outputs": [
    {
     "name": "stdout",
     "output_type": "stream",
     "text": [
      "Starting epoch 0/20\n"
     ]
    },
    {
     "name": "stderr",
     "output_type": "stream",
     "text": [
      "  0%|          | 0/1560 [00:00<?, ?it/s]"
     ]
    },
    {
     "name": "stdout",
     "output_type": "stream",
     "text": [
      "-------------------------\n",
      "| grad_norm  | 8.81e+03 |\n",
      "| loss       | 3.26e+04 |\n",
      "| loss_q0    | 3.2e+04  |\n",
      "| loss_q1    | 3.3e+04  |\n",
      "| loss_q2    | 3.26e+04 |\n",
      "| loss_q3    | 3.31e+04 |\n",
      "| param_norm | 54.2     |\n",
      "| samples    | 1        |\n",
      "| step       | 0        |\n",
      "-------------------------\n",
      "step[0]: loss[32630.64258]\n",
      "saving model...\n"
     ]
    },
    {
     "name": "stderr",
     "output_type": "stream",
     "text": [
      "  0%|          | 4/1560 [00:00<02:03, 12.61it/s]"
     ]
    },
    {
     "name": "stdout",
     "output_type": "stream",
     "text": [
      "Skipping evaluation for now.\n"
     ]
    },
    {
     "name": "stderr",
     "output_type": "stream",
     "text": [
      " 64%|██████▍   | 1000/1560 [00:51<00:28, 19.60it/s]"
     ]
    },
    {
     "name": "stdout",
     "output_type": "stream",
     "text": [
      "-------------------------\n",
      "| grad_norm  | 7.51e+03 |\n",
      "| loss       | 1.84e+04 |\n",
      "| loss_q0    | 1.64e+04 |\n",
      "| loss_q1    | 1.68e+04 |\n",
      "| loss_q2    | 1.71e+04 |\n",
      "| loss_q3    | 2.35e+04 |\n",
      "| param_norm | 54.6     |\n",
      "| samples    | 1e+03    |\n",
      "| step       | 1e+03    |\n",
      "-------------------------\n"
     ]
    },
    {
     "name": "stderr",
     "output_type": "stream",
     "text": [
      " 64%|██████▍   | 1004/1560 [00:51<00:29, 19.15it/s]"
     ]
    },
    {
     "name": "stdout",
     "output_type": "stream",
     "text": [
      "step[1000]: loss[18384.59079]\n"
     ]
    },
    {
     "name": "stderr",
     "output_type": "stream",
     "text": [
      "100%|██████████| 1560/1560 [01:19<00:00, 19.68it/s]\n"
     ]
    },
    {
     "name": "stdout",
     "output_type": "stream",
     "text": [
      "Starting epoch 1/20\n"
     ]
    },
    {
     "name": "stderr",
     "output_type": "stream",
     "text": [
      " 28%|██▊       | 440/1560 [00:23<01:00, 18.65it/s]"
     ]
    },
    {
     "name": "stdout",
     "output_type": "stream",
     "text": [
      "-------------------------\n",
      "| grad_norm  | 6.98e+03 |\n",
      "| loss       | 8.93e+03 |\n",
      "| loss_q0    | 5.96e+03 |\n",
      "| loss_q1    | 6.15e+03 |\n",
      "| loss_q2    | 6.5e+03  |\n",
      "| loss_q3    | 1.68e+04 |\n",
      "| param_norm | 55.2     |\n",
      "| samples    | 2e+03    |\n",
      "| step       | 2e+03    |\n",
      "-------------------------\n"
     ]
    },
    {
     "name": "stderr",
     "output_type": "stream",
     "text": [
      " 28%|██▊       | 444/1560 [00:23<01:04, 17.38it/s]"
     ]
    },
    {
     "name": "stdout",
     "output_type": "stream",
     "text": [
      "step[2000]: loss[8930.54469]\n"
     ]
    },
    {
     "name": "stderr",
     "output_type": "stream",
     "text": [
      " 92%|█████████▏| 1440/1560 [01:14<00:05, 22.44it/s]"
     ]
    },
    {
     "name": "stdout",
     "output_type": "stream",
     "text": [
      "-------------------------\n",
      "| grad_norm  | 7.26e+03 |\n",
      "| loss       | 5.87e+03 |\n",
      "| loss_q0    | 2.54e+03 |\n",
      "| loss_q1    | 2.64e+03 |\n",
      "| loss_q2    | 3.13e+03 |\n",
      "| loss_q3    | 1.41e+04 |\n",
      "| param_norm | 55.8     |\n",
      "| samples    | 3e+03    |\n",
      "| step       | 3e+03    |\n",
      "-------------------------\n"
     ]
    },
    {
     "name": "stderr",
     "output_type": "stream",
     "text": [
      " 92%|█████████▎| 1443/1560 [01:14<00:05, 22.23it/s]"
     ]
    },
    {
     "name": "stdout",
     "output_type": "stream",
     "text": [
      "step[3000]: loss[5870.44364]\n"
     ]
    },
    {
     "name": "stderr",
     "output_type": "stream",
     "text": [
      "100%|██████████| 1560/1560 [01:20<00:00, 19.44it/s]\n"
     ]
    },
    {
     "name": "stdout",
     "output_type": "stream",
     "text": [
      "Starting epoch 2/20\n"
     ]
    },
    {
     "name": "stderr",
     "output_type": "stream",
     "text": [
      " 56%|█████▋    | 880/1560 [00:51<00:53, 12.67it/s]"
     ]
    },
    {
     "name": "stdout",
     "output_type": "stream",
     "text": [
      "-------------------------\n",
      "| grad_norm  | 6.79e+03 |\n",
      "| loss       | 4.78e+03 |\n",
      "| loss_q0    | 1.42e+03 |\n",
      "| loss_q1    | 1.48e+03 |\n",
      "| loss_q2    | 1.94e+03 |\n",
      "| loss_q3    | 1.44e+04 |\n",
      "| param_norm | 56.2     |\n",
      "| samples    | 4e+03    |\n",
      "| step       | 4e+03    |\n",
      "-------------------------\n"
     ]
    },
    {
     "name": "stderr",
     "output_type": "stream",
     "text": [
      " 57%|█████▋    | 882/1560 [00:51<00:53, 12.76it/s]"
     ]
    },
    {
     "name": "stdout",
     "output_type": "stream",
     "text": [
      "step[4000]: loss[4778.45713]\n"
     ]
    },
    {
     "name": "stderr",
     "output_type": "stream",
     "text": [
      "100%|██████████| 1560/1560 [01:30<00:00, 17.17it/s]\n"
     ]
    },
    {
     "name": "stdout",
     "output_type": "stream",
     "text": [
      "Starting epoch 3/20\n"
     ]
    },
    {
     "name": "stderr",
     "output_type": "stream",
     "text": [
      " 21%|██        | 320/1560 [00:17<00:58, 21.08it/s]"
     ]
    },
    {
     "name": "stdout",
     "output_type": "stream",
     "text": [
      "-------------------------\n",
      "| grad_norm  | 6.62e+03 |\n",
      "| loss       | 4.27e+03 |\n",
      "| loss_q0    | 997      |\n",
      "| loss_q1    | 1.07e+03 |\n",
      "| loss_q2    | 1.54e+03 |\n",
      "| loss_q3    | 1.19e+04 |\n",
      "| param_norm | 56.5     |\n",
      "| samples    | 5e+03    |\n",
      "| step       | 5e+03    |\n",
      "-------------------------\n",
      "step[5000]: loss[4267.80023]\n",
      "saving model...\n"
     ]
    },
    {
     "name": "stderr",
     "output_type": "stream",
     "text": [
      " 21%|██        | 323/1560 [00:17<01:01, 20.24it/s]"
     ]
    },
    {
     "name": "stdout",
     "output_type": "stream",
     "text": [
      "Skipping evaluation for now.\n"
     ]
    },
    {
     "name": "stderr",
     "output_type": "stream",
     "text": [
      " 85%|████████▍ | 1319/1560 [01:10<00:12, 20.00it/s]"
     ]
    },
    {
     "name": "stdout",
     "output_type": "stream",
     "text": [
      "-------------------------\n",
      "| grad_norm  | 5.7e+03  |\n",
      "| loss       | 3.49e+03 |\n",
      "| loss_q0    | 805      |\n",
      "| loss_q1    | 862      |\n",
      "| loss_q2    | 1.22e+03 |\n",
      "| loss_q3    | 1.16e+04 |\n",
      "| param_norm | 56.8     |\n",
      "| samples    | 6e+03    |\n",
      "| step       | 6e+03    |\n",
      "-------------------------\n"
     ]
    },
    {
     "name": "stderr",
     "output_type": "stream",
     "text": [
      " 85%|████████▍ | 1323/1560 [01:10<00:12, 19.20it/s]"
     ]
    },
    {
     "name": "stdout",
     "output_type": "stream",
     "text": [
      "step[6000]: loss[3487.79080]\n"
     ]
    },
    {
     "name": "stderr",
     "output_type": "stream",
     "text": [
      "100%|██████████| 1560/1560 [01:23<00:00, 18.69it/s]\n"
     ]
    },
    {
     "name": "stdout",
     "output_type": "stream",
     "text": [
      "Starting epoch 4/20\n"
     ]
    },
    {
     "name": "stderr",
     "output_type": "stream",
     "text": [
      " 49%|████▊     | 760/1560 [00:40<00:40, 19.96it/s]"
     ]
    },
    {
     "name": "stdout",
     "output_type": "stream",
     "text": [
      "-------------------------\n",
      "| grad_norm  | 5.7e+03  |\n",
      "| loss       | 3.44e+03 |\n",
      "| loss_q0    | 693      |\n",
      "| loss_q1    | 750      |\n",
      "| loss_q2    | 1.1e+03  |\n",
      "| loss_q3    | 1.09e+04 |\n",
      "| param_norm | 57       |\n",
      "| samples    | 7e+03    |\n",
      "| step       | 7e+03    |\n",
      "-------------------------\n"
     ]
    },
    {
     "name": "stderr",
     "output_type": "stream",
     "text": [
      " 49%|████▉     | 764/1560 [00:40<00:42, 18.59it/s]"
     ]
    },
    {
     "name": "stdout",
     "output_type": "stream",
     "text": [
      "step[7000]: loss[3438.78574]\n"
     ]
    },
    {
     "name": "stderr",
     "output_type": "stream",
     "text": [
      "100%|██████████| 1560/1560 [01:22<00:00, 18.85it/s]\n"
     ]
    },
    {
     "name": "stdout",
     "output_type": "stream",
     "text": [
      "Starting epoch 5/20\n"
     ]
    },
    {
     "name": "stderr",
     "output_type": "stream",
     "text": [
      " 13%|█▎        | 200/1560 [00:10<01:12, 18.73it/s]"
     ]
    },
    {
     "name": "stdout",
     "output_type": "stream",
     "text": [
      "-------------------------\n",
      "| grad_norm  | 5.56e+03 |\n",
      "| loss       | 3.29e+03 |\n",
      "| loss_q0    | 616      |\n",
      "| loss_q1    | 671      |\n",
      "| loss_q2    | 990      |\n",
      "| loss_q3    | 1.11e+04 |\n",
      "| param_norm | 57.2     |\n",
      "| samples    | 8e+03    |\n",
      "| step       | 8e+03    |\n",
      "-------------------------\n"
     ]
    },
    {
     "name": "stderr",
     "output_type": "stream",
     "text": [
      " 13%|█▎        | 205/1560 [00:10<01:08, 19.67it/s]"
     ]
    },
    {
     "name": "stdout",
     "output_type": "stream",
     "text": [
      "step[8000]: loss[3285.24337]\n"
     ]
    },
    {
     "name": "stderr",
     "output_type": "stream",
     "text": [
      " 77%|███████▋  | 1199/1560 [01:02<00:21, 16.83it/s]"
     ]
    },
    {
     "name": "stdout",
     "output_type": "stream",
     "text": [
      "-------------------------\n",
      "| grad_norm  | 5.32e+03 |\n",
      "| loss       | 3.09e+03 |\n",
      "| loss_q0    | 555      |\n",
      "| loss_q1    | 607      |\n",
      "| loss_q2    | 915      |\n",
      "| loss_q3    | 1.07e+04 |\n",
      "| param_norm | 57.3     |\n",
      "| samples    | 9e+03    |\n",
      "| step       | 9e+03    |\n",
      "-------------------------\n"
     ]
    },
    {
     "name": "stderr",
     "output_type": "stream",
     "text": [
      " 77%|███████▋  | 1203/1560 [01:02<00:21, 16.95it/s]"
     ]
    },
    {
     "name": "stdout",
     "output_type": "stream",
     "text": [
      "step[9000]: loss[3093.04910]\n"
     ]
    },
    {
     "name": "stderr",
     "output_type": "stream",
     "text": [
      "100%|██████████| 1560/1560 [01:20<00:00, 19.31it/s]\n"
     ]
    },
    {
     "name": "stdout",
     "output_type": "stream",
     "text": [
      "Starting epoch 6/20\n"
     ]
    },
    {
     "name": "stderr",
     "output_type": "stream",
     "text": [
      " 41%|████      | 640/1560 [00:33<00:42, 21.67it/s]"
     ]
    },
    {
     "name": "stdout",
     "output_type": "stream",
     "text": [
      "-------------------------\n",
      "| grad_norm  | 5.24e+03 |\n",
      "| loss       | 3.11e+03 |\n",
      "| loss_q0    | 506      |\n",
      "| loss_q1    | 553      |\n",
      "| loss_q2    | 859      |\n",
      "| loss_q3    | 1.16e+04 |\n",
      "| param_norm | 57.5     |\n",
      "| samples    | 1e+04    |\n",
      "| step       | 1e+04    |\n",
      "-------------------------\n",
      "step[10000]: loss[3108.69781]\n",
      "saving model...\n"
     ]
    },
    {
     "name": "stderr",
     "output_type": "stream",
     "text": [
      " 41%|████      | 643/1560 [00:33<00:48, 19.04it/s]"
     ]
    },
    {
     "name": "stdout",
     "output_type": "stream",
     "text": [
      "Skipping evaluation for now.\n"
     ]
    },
    {
     "name": "stderr",
     "output_type": "stream",
     "text": [
      "100%|██████████| 1560/1560 [01:22<00:00, 18.96it/s]\n"
     ]
    },
    {
     "name": "stdout",
     "output_type": "stream",
     "text": [
      "Starting epoch 7/20\n"
     ]
    },
    {
     "name": "stderr",
     "output_type": "stream",
     "text": [
      "  5%|▌         | 80/1560 [00:04<01:23, 17.65it/s]"
     ]
    },
    {
     "name": "stdout",
     "output_type": "stream",
     "text": [
      "-------------------------\n",
      "| grad_norm  | 5.5e+03  |\n",
      "| loss       | 3.8e+03  |\n",
      "| loss_q0    | 469      |\n",
      "| loss_q1    | 522      |\n",
      "| loss_q2    | 811      |\n",
      "| loss_q3    | 1.22e+04 |\n",
      "| param_norm | 57.6     |\n",
      "| samples    | 1.1e+04  |\n",
      "| step       | 1.1e+04  |\n",
      "-------------------------\n"
     ]
    },
    {
     "name": "stderr",
     "output_type": "stream",
     "text": [
      "  5%|▌         | 84/1560 [00:04<01:32, 16.04it/s]"
     ]
    },
    {
     "name": "stdout",
     "output_type": "stream",
     "text": [
      "step[11000]: loss[3797.02252]\n"
     ]
    },
    {
     "name": "stderr",
     "output_type": "stream",
     "text": [
      " 69%|██████▉   | 1080/1560 [00:57<00:25, 18.73it/s]"
     ]
    },
    {
     "name": "stdout",
     "output_type": "stream",
     "text": [
      "-------------------------\n",
      "| grad_norm  | 5.11e+03 |\n",
      "| loss       | 3.2e+03  |\n",
      "| loss_q0    | 437      |\n",
      "| loss_q1    | 489      |\n",
      "| loss_q2    | 761      |\n",
      "| loss_q3    | 1.06e+04 |\n",
      "| param_norm | 57.7     |\n",
      "| samples    | 1.2e+04  |\n",
      "| step       | 1.2e+04  |\n",
      "-------------------------\n"
     ]
    },
    {
     "name": "stderr",
     "output_type": "stream",
     "text": [
      " 69%|██████▉   | 1084/1560 [00:58<00:25, 18.53it/s]"
     ]
    },
    {
     "name": "stdout",
     "output_type": "stream",
     "text": [
      "step[12000]: loss[3199.04225]\n"
     ]
    },
    {
     "name": "stderr",
     "output_type": "stream",
     "text": [
      "100%|██████████| 1560/1560 [01:22<00:00, 18.96it/s]\n"
     ]
    },
    {
     "name": "stdout",
     "output_type": "stream",
     "text": [
      "Starting epoch 8/20\n"
     ]
    },
    {
     "name": "stderr",
     "output_type": "stream",
     "text": [
      " 33%|███▎      | 520/1560 [00:27<00:56, 18.46it/s]"
     ]
    },
    {
     "name": "stdout",
     "output_type": "stream",
     "text": [
      "-------------------------\n",
      "| grad_norm  | 4.84e+03 |\n",
      "| loss       | 2.94e+03 |\n",
      "| loss_q0    | 408      |\n",
      "| loss_q1    | 457      |\n",
      "| loss_q2    | 712      |\n",
      "| loss_q3    | 1.05e+04 |\n",
      "| param_norm | 57.9     |\n",
      "| samples    | 1.3e+04  |\n",
      "| step       | 1.3e+04  |\n",
      "-------------------------\n"
     ]
    },
    {
     "name": "stderr",
     "output_type": "stream",
     "text": [
      " 34%|███▎      | 524/1560 [00:27<00:56, 18.25it/s]"
     ]
    },
    {
     "name": "stdout",
     "output_type": "stream",
     "text": [
      "step[13000]: loss[2944.26626]\n"
     ]
    },
    {
     "name": "stderr",
     "output_type": "stream",
     "text": [
      " 97%|█████████▋| 1519/1560 [01:19<00:02, 19.92it/s]"
     ]
    },
    {
     "name": "stdout",
     "output_type": "stream",
     "text": [
      "-------------------------\n",
      "| grad_norm  | 4.74e+03 |\n",
      "| loss       | 3.06e+03 |\n",
      "| loss_q0    | 383      |\n",
      "| loss_q1    | 427      |\n",
      "| loss_q2    | 696      |\n",
      "| loss_q3    | 1.1e+04  |\n",
      "| param_norm | 58       |\n",
      "| samples    | 1.4e+04  |\n",
      "| step       | 1.4e+04  |\n",
      "-------------------------\n"
     ]
    },
    {
     "name": "stderr",
     "output_type": "stream",
     "text": [
      " 98%|█████████▊| 1523/1560 [01:19<00:01, 19.70it/s]"
     ]
    },
    {
     "name": "stdout",
     "output_type": "stream",
     "text": [
      "step[14000]: loss[3062.11477]\n"
     ]
    },
    {
     "name": "stderr",
     "output_type": "stream",
     "text": [
      "100%|██████████| 1560/1560 [01:21<00:00, 19.16it/s]\n"
     ]
    },
    {
     "name": "stdout",
     "output_type": "stream",
     "text": [
      "Starting epoch 9/20\n"
     ]
    },
    {
     "name": "stderr",
     "output_type": "stream",
     "text": [
      " 61%|██████▏   | 959/1560 [00:50<00:29, 20.24it/s]"
     ]
    },
    {
     "name": "stdout",
     "output_type": "stream",
     "text": [
      "-------------------------\n",
      "| grad_norm  | 4.63e+03 |\n",
      "| loss       | 2.93e+03 |\n",
      "| loss_q0    | 361      |\n",
      "| loss_q1    | 409      |\n",
      "| loss_q2    | 638      |\n",
      "| loss_q3    | 1.11e+04 |\n",
      "| param_norm | 58.1     |\n",
      "| samples    | 1.5e+04  |\n",
      "| step       | 1.5e+04  |\n",
      "-------------------------\n",
      "step[15000]: loss[2929.67792]\n",
      "saving model...\n"
     ]
    },
    {
     "name": "stderr",
     "output_type": "stream",
     "text": [
      " 62%|██████▏   | 962/1560 [00:51<00:32, 18.63it/s]"
     ]
    },
    {
     "name": "stdout",
     "output_type": "stream",
     "text": [
      "Skipping evaluation for now.\n"
     ]
    },
    {
     "name": "stderr",
     "output_type": "stream",
     "text": [
      "100%|██████████| 1560/1560 [01:23<00:00, 18.71it/s]\n"
     ]
    },
    {
     "name": "stdout",
     "output_type": "stream",
     "text": [
      "Starting epoch 10/20\n"
     ]
    },
    {
     "name": "stderr",
     "output_type": "stream",
     "text": [
      " 26%|██▌       | 400/1560 [00:20<01:02, 18.62it/s]"
     ]
    },
    {
     "name": "stdout",
     "output_type": "stream",
     "text": [
      "-------------------------\n",
      "| grad_norm  | 4.91e+03 |\n",
      "| loss       | 3.27e+03 |\n",
      "| loss_q0    | 347      |\n",
      "| loss_q1    | 385      |\n",
      "| loss_q2    | 630      |\n",
      "| loss_q3    | 1.09e+04 |\n",
      "| param_norm | 58.2     |\n",
      "| samples    | 1.6e+04  |\n",
      "| step       | 1.6e+04  |\n",
      "-------------------------\n"
     ]
    },
    {
     "name": "stderr",
     "output_type": "stream",
     "text": [
      " 26%|██▌       | 404/1560 [00:21<01:05, 17.52it/s]"
     ]
    },
    {
     "name": "stdout",
     "output_type": "stream",
     "text": [
      "step[16000]: loss[3267.84519]\n"
     ]
    },
    {
     "name": "stderr",
     "output_type": "stream",
     "text": [
      " 90%|████████▉ | 1400/1560 [01:13<00:08, 19.97it/s]"
     ]
    },
    {
     "name": "stdout",
     "output_type": "stream",
     "text": [
      "-------------------------\n",
      "| grad_norm  | 4.71e+03 |\n",
      "| loss       | 2.75e+03 |\n",
      "| loss_q0    | 330      |\n",
      "| loss_q1    | 372      |\n",
      "| loss_q2    | 607      |\n",
      "| loss_q3    | 1.03e+04 |\n",
      "| param_norm | 58.3     |\n",
      "| samples    | 1.7e+04  |\n",
      "| step       | 1.7e+04  |\n",
      "-------------------------\n"
     ]
    },
    {
     "name": "stderr",
     "output_type": "stream",
     "text": [
      " 90%|████████▉ | 1403/1560 [01:13<00:08, 19.40it/s]"
     ]
    },
    {
     "name": "stdout",
     "output_type": "stream",
     "text": [
      "step[17000]: loss[2745.94120]\n"
     ]
    },
    {
     "name": "stderr",
     "output_type": "stream",
     "text": [
      "100%|██████████| 1560/1560 [01:22<00:00, 18.90it/s]\n"
     ]
    },
    {
     "name": "stdout",
     "output_type": "stream",
     "text": [
      "Starting epoch 11/20\n"
     ]
    },
    {
     "name": "stderr",
     "output_type": "stream",
     "text": [
      " 54%|█████▍    | 840/1560 [00:44<00:39, 18.36it/s]"
     ]
    },
    {
     "name": "stdout",
     "output_type": "stream",
     "text": [
      "-------------------------\n",
      "| grad_norm  | 4.64e+03 |\n",
      "| loss       | 3.2e+03  |\n",
      "| loss_q0    | 317      |\n",
      "| loss_q1    | 353      |\n",
      "| loss_q2    | 585      |\n",
      "| loss_q3    | 1.09e+04 |\n",
      "| param_norm | 58.4     |\n",
      "| samples    | 1.8e+04  |\n",
      "| step       | 1.8e+04  |\n",
      "-------------------------\n"
     ]
    },
    {
     "name": "stderr",
     "output_type": "stream",
     "text": [
      " 54%|█████▍    | 844/1560 [00:44<00:39, 18.08it/s]"
     ]
    },
    {
     "name": "stdout",
     "output_type": "stream",
     "text": [
      "step[18000]: loss[3199.01841]\n"
     ]
    },
    {
     "name": "stderr",
     "output_type": "stream",
     "text": [
      "100%|██████████| 1560/1560 [01:21<00:00, 19.09it/s]\n"
     ]
    },
    {
     "name": "stdout",
     "output_type": "stream",
     "text": [
      "Starting epoch 12/20\n"
     ]
    },
    {
     "name": "stderr",
     "output_type": "stream",
     "text": [
      " 18%|█▊        | 280/1560 [00:14<01:07, 18.97it/s]"
     ]
    },
    {
     "name": "stdout",
     "output_type": "stream",
     "text": [
      "-------------------------\n",
      "| grad_norm  | 4.79e+03 |\n",
      "| loss       | 3.42e+03 |\n",
      "| loss_q0    | 302      |\n",
      "| loss_q1    | 342      |\n",
      "| loss_q2    | 607      |\n",
      "| loss_q3    | 1.2e+04  |\n",
      "| param_norm | 58.5     |\n",
      "| samples    | 1.9e+04  |\n",
      "| step       | 1.9e+04  |\n",
      "-------------------------\n"
     ]
    },
    {
     "name": "stderr",
     "output_type": "stream",
     "text": [
      " 18%|█▊        | 284/1560 [00:14<01:08, 18.66it/s]"
     ]
    },
    {
     "name": "stdout",
     "output_type": "stream",
     "text": [
      "step[19000]: loss[3419.87714]\n"
     ]
    },
    {
     "name": "stderr",
     "output_type": "stream",
     "text": [
      " 82%|████████▏ | 1278/1560 [01:07<00:13, 20.95it/s]"
     ]
    },
    {
     "name": "stdout",
     "output_type": "stream",
     "text": [
      "-------------------------\n",
      "| grad_norm  | 4.62e+03 |\n",
      "| loss       | 3.12e+03 |\n",
      "| loss_q0    | 291      |\n",
      "| loss_q1    | 332      |\n",
      "| loss_q2    | 543      |\n",
      "| loss_q3    | 1.13e+04 |\n",
      "| param_norm | 58.6     |\n",
      "| samples    | 2e+04    |\n",
      "| step       | 2e+04    |\n",
      "-------------------------\n",
      "step[20000]: loss[3116.13473]\n",
      "saving model...\n"
     ]
    },
    {
     "name": "stderr",
     "output_type": "stream",
     "text": [
      " 82%|████████▏ | 1284/1560 [01:07<00:14, 18.94it/s]"
     ]
    },
    {
     "name": "stdout",
     "output_type": "stream",
     "text": [
      "Skipping evaluation for now.\n"
     ]
    },
    {
     "name": "stderr",
     "output_type": "stream",
     "text": [
      "100%|██████████| 1560/1560 [01:22<00:00, 19.01it/s]\n"
     ]
    },
    {
     "name": "stdout",
     "output_type": "stream",
     "text": [
      "Starting epoch 13/20\n"
     ]
    },
    {
     "name": "stderr",
     "output_type": "stream",
     "text": [
      " 46%|████▌     | 719/1560 [00:38<00:43, 19.40it/s]"
     ]
    },
    {
     "name": "stdout",
     "output_type": "stream",
     "text": [
      "-------------------------\n",
      "| grad_norm  | 4.64e+03 |\n",
      "| loss       | 2.92e+03 |\n",
      "| loss_q0    | 279      |\n",
      "| loss_q1    | 320      |\n",
      "| loss_q2    | 547      |\n",
      "| loss_q3    | 1.07e+04 |\n",
      "| param_norm | 58.7     |\n",
      "| samples    | 2.1e+04  |\n",
      "| step       | 2.1e+04  |\n",
      "-------------------------\n"
     ]
    },
    {
     "name": "stderr",
     "output_type": "stream",
     "text": [
      " 46%|████▋     | 723/1560 [00:38<00:44, 18.71it/s]"
     ]
    },
    {
     "name": "stdout",
     "output_type": "stream",
     "text": [
      "step[21000]: loss[2916.31240]\n"
     ]
    },
    {
     "name": "stderr",
     "output_type": "stream",
     "text": [
      "100%|██████████| 1560/1560 [01:22<00:00, 18.84it/s]\n"
     ]
    },
    {
     "name": "stdout",
     "output_type": "stream",
     "text": [
      "Starting epoch 14/20\n"
     ]
    },
    {
     "name": "stderr",
     "output_type": "stream",
     "text": [
      " 10%|█         | 160/1560 [00:08<01:15, 18.58it/s]"
     ]
    },
    {
     "name": "stdout",
     "output_type": "stream",
     "text": [
      "-------------------------\n",
      "| grad_norm  | 4.48e+03 |\n",
      "| loss       | 3.22e+03 |\n",
      "| loss_q0    | 270      |\n",
      "| loss_q1    | 303      |\n",
      "| loss_q2    | 526      |\n",
      "| loss_q3    | 1.18e+04 |\n",
      "| param_norm | 58.8     |\n",
      "| samples    | 2.2e+04  |\n",
      "| step       | 2.2e+04  |\n",
      "-------------------------\n"
     ]
    },
    {
     "name": "stderr",
     "output_type": "stream",
     "text": [
      " 11%|█         | 164/1560 [00:09<01:13, 18.89it/s]"
     ]
    },
    {
     "name": "stdout",
     "output_type": "stream",
     "text": [
      "step[22000]: loss[3219.18482]\n"
     ]
    },
    {
     "name": "stderr",
     "output_type": "stream",
     "text": [
      " 74%|███████▍  | 1160/1560 [01:02<00:21, 18.56it/s]"
     ]
    },
    {
     "name": "stdout",
     "output_type": "stream",
     "text": [
      "-------------------------\n",
      "| grad_norm  | 4.27e+03 |\n",
      "| loss       | 2.8e+03  |\n",
      "| loss_q0    | 260      |\n",
      "| loss_q1    | 299      |\n",
      "| loss_q2    | 495      |\n",
      "| loss_q3    | 1.07e+04 |\n",
      "| param_norm | 58.9     |\n",
      "| samples    | 2.3e+04  |\n",
      "| step       | 2.3e+04  |\n",
      "-------------------------\n"
     ]
    },
    {
     "name": "stderr",
     "output_type": "stream",
     "text": [
      " 75%|███████▍  | 1164/1560 [01:02<00:21, 18.16it/s]"
     ]
    },
    {
     "name": "stdout",
     "output_type": "stream",
     "text": [
      "step[23000]: loss[2801.76206]\n"
     ]
    },
    {
     "name": "stderr",
     "output_type": "stream",
     "text": [
      "100%|██████████| 1560/1560 [01:24<00:00, 18.43it/s]\n"
     ]
    },
    {
     "name": "stdout",
     "output_type": "stream",
     "text": [
      "Starting epoch 15/20\n"
     ]
    },
    {
     "name": "stderr",
     "output_type": "stream",
     "text": [
      " 38%|███▊      | 599/1560 [00:32<00:53, 17.98it/s]"
     ]
    },
    {
     "name": "stdout",
     "output_type": "stream",
     "text": [
      "-------------------------\n",
      "| grad_norm  | 4.78e+03 |\n",
      "| loss       | 3.24e+03 |\n",
      "| loss_q0    | 254      |\n",
      "| loss_q1    | 292      |\n",
      "| loss_q2    | 517      |\n",
      "| loss_q3    | 1.09e+04 |\n",
      "| param_norm | 59       |\n",
      "| samples    | 2.4e+04  |\n",
      "| step       | 2.4e+04  |\n",
      "-------------------------\n"
     ]
    },
    {
     "name": "stderr",
     "output_type": "stream",
     "text": [
      " 39%|███▊      | 604/1560 [00:33<00:50, 19.06it/s]"
     ]
    },
    {
     "name": "stdout",
     "output_type": "stream",
     "text": [
      "step[24000]: loss[3241.30023]\n"
     ]
    },
    {
     "name": "stderr",
     "output_type": "stream",
     "text": [
      "100%|██████████| 1560/1560 [01:23<00:00, 18.65it/s]\n"
     ]
    },
    {
     "name": "stdout",
     "output_type": "stream",
     "text": [
      "Starting epoch 16/20\n"
     ]
    },
    {
     "name": "stderr",
     "output_type": "stream",
     "text": [
      "  2%|▎         | 39/1560 [00:02<01:13, 20.77it/s]"
     ]
    },
    {
     "name": "stdout",
     "output_type": "stream",
     "text": [
      "-------------------------\n",
      "| grad_norm  | 4.06e+03 |\n",
      "| loss       | 2.78e+03 |\n",
      "| loss_q0    | 242      |\n",
      "| loss_q1    | 280      |\n",
      "| loss_q2    | 485      |\n",
      "| loss_q3    | 1.02e+04 |\n",
      "| param_norm | 59.1     |\n",
      "| samples    | 2.5e+04  |\n",
      "| step       | 2.5e+04  |\n",
      "-------------------------\n",
      "step[25000]: loss[2775.90480]\n",
      "saving model...\n"
     ]
    },
    {
     "name": "stderr",
     "output_type": "stream",
     "text": [
      "  3%|▎         | 44/1560 [00:02<01:20, 18.89it/s]"
     ]
    },
    {
     "name": "stdout",
     "output_type": "stream",
     "text": [
      "Skipping evaluation for now.\n"
     ]
    },
    {
     "name": "stderr",
     "output_type": "stream",
     "text": [
      " 67%|██████▋   | 1039/1560 [00:53<00:24, 20.85it/s]"
     ]
    },
    {
     "name": "stdout",
     "output_type": "stream",
     "text": [
      "-------------------------\n",
      "| grad_norm  | 4.2e+03  |\n",
      "| loss       | 2.56e+03 |\n",
      "| loss_q0    | 237      |\n",
      "| loss_q1    | 273      |\n",
      "| loss_q2    | 473      |\n",
      "| loss_q3    | 9.42e+03 |\n",
      "| param_norm | 59.2     |\n",
      "| samples    | 2.6e+04  |\n",
      "| step       | 2.6e+04  |\n",
      "-------------------------\n"
     ]
    },
    {
     "name": "stderr",
     "output_type": "stream",
     "text": [
      " 67%|██████▋   | 1045/1560 [00:54<00:23, 21.97it/s]"
     ]
    },
    {
     "name": "stdout",
     "output_type": "stream",
     "text": [
      "step[26000]: loss[2558.07699]\n"
     ]
    },
    {
     "name": "stderr",
     "output_type": "stream",
     "text": [
      "100%|██████████| 1560/1560 [01:20<00:00, 19.33it/s]\n"
     ]
    },
    {
     "name": "stdout",
     "output_type": "stream",
     "text": [
      "Starting epoch 17/20\n"
     ]
    },
    {
     "name": "stderr",
     "output_type": "stream",
     "text": [
      " 31%|███       | 480/1560 [00:26<00:56, 19.00it/s]"
     ]
    },
    {
     "name": "stdout",
     "output_type": "stream",
     "text": [
      "-------------------------\n",
      "| grad_norm  | 4.19e+03 |\n",
      "| loss       | 2.65e+03 |\n",
      "| loss_q0    | 228      |\n",
      "| loss_q1    | 263      |\n",
      "| loss_q2    | 466      |\n",
      "| loss_q3    | 9.81e+03 |\n",
      "| param_norm | 59.2     |\n",
      "| samples    | 2.7e+04  |\n",
      "| step       | 2.7e+04  |\n",
      "-------------------------\n"
     ]
    },
    {
     "name": "stderr",
     "output_type": "stream",
     "text": [
      " 31%|███       | 484/1560 [00:26<00:58, 18.54it/s]"
     ]
    },
    {
     "name": "stdout",
     "output_type": "stream",
     "text": [
      "step[27000]: loss[2652.89045]\n"
     ]
    },
    {
     "name": "stderr",
     "output_type": "stream",
     "text": [
      " 95%|█████████▍| 1480/1560 [01:19<00:04, 18.21it/s]"
     ]
    },
    {
     "name": "stdout",
     "output_type": "stream",
     "text": [
      "-------------------------\n",
      "| grad_norm  | 4.35e+03 |\n",
      "| loss       | 3.31e+03 |\n",
      "| loss_q0    | 222      |\n",
      "| loss_q1    | 255      |\n",
      "| loss_q2    | 436      |\n",
      "| loss_q3    | 1.19e+04 |\n",
      "| param_norm | 59.3     |\n",
      "| samples    | 2.8e+04  |\n",
      "| step       | 2.8e+04  |\n",
      "-------------------------\n"
     ]
    },
    {
     "name": "stderr",
     "output_type": "stream",
     "text": [
      " 95%|█████████▌| 1484/1560 [01:19<00:04, 18.91it/s]"
     ]
    },
    {
     "name": "stdout",
     "output_type": "stream",
     "text": [
      "step[28000]: loss[3314.10315]\n"
     ]
    },
    {
     "name": "stderr",
     "output_type": "stream",
     "text": [
      "100%|██████████| 1560/1560 [01:23<00:00, 18.68it/s]\n"
     ]
    },
    {
     "name": "stdout",
     "output_type": "stream",
     "text": [
      "Starting epoch 18/20\n"
     ]
    },
    {
     "name": "stderr",
     "output_type": "stream",
     "text": [
      " 59%|█████▉    | 920/1560 [00:49<00:34, 18.82it/s]"
     ]
    },
    {
     "name": "stdout",
     "output_type": "stream",
     "text": [
      "-------------------------\n",
      "| grad_norm  | 4.4e+03  |\n",
      "| loss       | 3.25e+03 |\n",
      "| loss_q0    | 216      |\n",
      "| loss_q1    | 250      |\n",
      "| loss_q2    | 454      |\n",
      "| loss_q3    | 1.12e+04 |\n",
      "| param_norm | 59.4     |\n",
      "| samples    | 2.9e+04  |\n",
      "| step       | 2.9e+04  |\n",
      "-------------------------\n"
     ]
    },
    {
     "name": "stderr",
     "output_type": "stream",
     "text": [
      " 59%|█████▉    | 924/1560 [00:49<00:34, 18.52it/s]"
     ]
    },
    {
     "name": "stdout",
     "output_type": "stream",
     "text": [
      "step[29000]: loss[3251.93310]\n"
     ]
    },
    {
     "name": "stderr",
     "output_type": "stream",
     "text": [
      "100%|██████████| 1560/1560 [01:23<00:00, 18.66it/s]\n"
     ]
    },
    {
     "name": "stdout",
     "output_type": "stream",
     "text": [
      "Starting epoch 19/20\n"
     ]
    },
    {
     "name": "stderr",
     "output_type": "stream",
     "text": [
      " 23%|██▎       | 360/1560 [00:19<01:07, 17.88it/s]"
     ]
    },
    {
     "name": "stdout",
     "output_type": "stream",
     "text": [
      "-------------------------\n",
      "| grad_norm  | 4.19e+03 |\n",
      "| loss       | 2.85e+03 |\n",
      "| loss_q0    | 210      |\n",
      "| loss_q1    | 242      |\n",
      "| loss_q2    | 439      |\n",
      "| loss_q3    | 1.09e+04 |\n",
      "| param_norm | 59.5     |\n",
      "| samples    | 3e+04    |\n",
      "| step       | 3e+04    |\n",
      "-------------------------\n",
      "step[30000]: loss[2846.23565]\n",
      "saving model...\n"
     ]
    },
    {
     "name": "stderr",
     "output_type": "stream",
     "text": [
      " 23%|██▎       | 362/1560 [00:19<01:13, 16.34it/s]"
     ]
    },
    {
     "name": "stdout",
     "output_type": "stream",
     "text": [
      "Skipping evaluation for now.\n"
     ]
    },
    {
     "name": "stderr",
     "output_type": "stream",
     "text": [
      " 87%|████████▋ | 1360/1560 [01:12<00:10, 19.61it/s]"
     ]
    },
    {
     "name": "stdout",
     "output_type": "stream",
     "text": [
      "-------------------------\n",
      "| grad_norm  | 4.06e+03 |\n",
      "| loss       | 3.1e+03  |\n",
      "| loss_q0    | 204      |\n",
      "| loss_q1    | 238      |\n",
      "| loss_q2    | 429      |\n",
      "| loss_q3    | 1.16e+04 |\n",
      "| param_norm | 59.5     |\n",
      "| samples    | 3.1e+04  |\n",
      "| step       | 3.1e+04  |\n",
      "-------------------------\n"
     ]
    },
    {
     "name": "stderr",
     "output_type": "stream",
     "text": [
      " 87%|████████▋ | 1364/1560 [01:12<00:10, 18.76it/s]"
     ]
    },
    {
     "name": "stdout",
     "output_type": "stream",
     "text": [
      "step[31000]: loss[3104.23882]\n"
     ]
    },
    {
     "name": "stderr",
     "output_type": "stream",
     "text": [
      "100%|██████████| 1560/1560 [01:22<00:00, 18.87it/s]"
     ]
    },
    {
     "name": "stdout",
     "output_type": "stream",
     "text": [
      "saving model...\n",
      "Skipping evaluation for now.\n"
     ]
    },
    {
     "name": "stderr",
     "output_type": "stream",
     "text": [
      "\n"
     ]
    }
   ],
   "source": [
    "from train.training_loop import TrainLoop\n",
    "TrainLoop(args, None , model, diffusion, dataloader).run_loop()"
   ]
  },
  {
   "cell_type": "code",
   "execution_count": 24,
   "metadata": {},
   "outputs": [
    {
     "data": {
      "text/plain": [
       "torch.Size([78, 35])"
      ]
     },
     "execution_count": 24,
     "metadata": {},
     "output_type": "execute_result"
    }
   ],
   "source": [
    "dataset[0].shape"
   ]
  },
  {
   "cell_type": "code",
   "execution_count": 25,
   "metadata": {},
   "outputs": [],
   "source": [
    "num_frames = dataset[0].shape[0]\n",
    "num_feats = dataset[0].shape[1]"
   ]
  },
  {
   "cell_type": "code",
   "execution_count": 26,
   "metadata": {},
   "outputs": [
    {
     "name": "stderr",
     "output_type": "stream",
     "text": [
      "/home/kenji/.local/lib/python3.8/site-packages/tqdm/auto.py:21: TqdmWarning: IProgress not found. Please update jupyter and ipywidgets. See https://ipywidgets.readthedocs.io/en/stable/user_install.html\n",
      "  from .autonotebook import tqdm as notebook_tqdm\n"
     ]
    },
    {
     "name": "stdout",
     "output_type": "stream",
     "text": [
      "### Sampling [repetitions #0]\n"
     ]
    },
    {
     "name": "stderr",
     "output_type": "stream",
     "text": [
      "100%|██████████| 1000/1000 [00:05<00:00, 182.52it/s]\n"
     ]
    },
    {
     "name": "stdout",
     "output_type": "stream",
     "text": [
      "### Sampling [repetitions #1]\n"
     ]
    },
    {
     "name": "stderr",
     "output_type": "stream",
     "text": [
      "100%|██████████| 1000/1000 [00:05<00:00, 173.28it/s]\n"
     ]
    },
    {
     "name": "stdout",
     "output_type": "stream",
     "text": [
      "### Sampling [repetitions #2]\n"
     ]
    },
    {
     "name": "stderr",
     "output_type": "stream",
     "text": [
      "100%|██████████| 1000/1000 [00:05<00:00, 180.24it/s]\n"
     ]
    }
   ],
   "source": [
    "sample_batch_size = 1\n",
    "\n",
    "all_motions = []\n",
    "for rep_i in range(args.num_repetitions):\n",
    "    print(f'### Sampling [repetitions #{rep_i}]')\n",
    "\n",
    "    sample_fn = diffusion.p_sample_loop\n",
    "\n",
    "    sample = sample_fn(\n",
    "        model,\n",
    "        (sample_batch_size, num_frames, num_feats),\n",
    "        clip_denoised=False,\n",
    "        model_kwargs={\"y\": {}},\n",
    "        skip_timesteps=0,  # 0 is the default value - i.e. don't skip any step\n",
    "        init_image=None,\n",
    "        progress=True,\n",
    "        dump_steps=None,\n",
    "        noise=None,\n",
    "        const_noise=False,\n",
    "    )\n",
    "\n",
    "    all_motions.append(sample.cpu().numpy())"
   ]
  },
  {
   "cell_type": "code",
   "execution_count": 27,
   "metadata": {},
   "outputs": [
    {
     "data": {
      "text/plain": [
       "(3, 78, 35)"
      ]
     },
     "execution_count": 27,
     "metadata": {},
     "output_type": "execute_result"
    }
   ],
   "source": [
    "all_motions = np.concatenate(all_motions, axis=0)\n",
    "all_motions.shape"
   ]
  },
  {
   "cell_type": "code",
   "execution_count": 28,
   "metadata": {},
   "outputs": [
    {
     "name": "stdout",
     "output_type": "stream",
     "text": [
      "Motion 0 saved as motion_0.npy\n",
      "Motion 1 saved as motion_1.npy\n",
      "Motion 2 saved as motion_2.npy\n"
     ]
    }
   ],
   "source": [
    "import numpy as np\n",
    "\n",
    "def save_motions(all_motions, output_dir):\n",
    "    for i, motion in enumerate(all_motions):\n",
    "        filename = f\"motion_{i}.npy\"\n",
    "        filepath = os.path.join(output_dir, filename)\n",
    "        np.save(filepath, motion)\n",
    "        print(f\"Motion {i} saved as {filename}\")\n",
    "\n",
    "save_motions(all_motions, f\"/home/kenji/Fyp/DeepMimic_mujoco/diffusion/logs/{expname}/sampled_motions/\")"
   ]
  },
  {
   "cell_type": "code",
   "execution_count": null,
   "metadata": {},
   "outputs": [],
   "source": []
  }
 ],
 "metadata": {
  "kernelspec": {
   "display_name": "fyp",
   "language": "python",
   "name": "python3"
  },
  "language_info": {
   "codemirror_mode": {
    "name": "ipython",
    "version": 3
   },
   "file_extension": ".py",
   "mimetype": "text/x-python",
   "name": "python",
   "nbconvert_exporter": "python",
   "pygments_lexer": "ipython3",
   "version": "3.12.0"
  }
 },
 "nbformat": 4,
 "nbformat_minor": 2
}
