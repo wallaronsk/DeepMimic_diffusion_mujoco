{
 "cells": [
  {
   "cell_type": "code",
   "execution_count": 1,
   "metadata": {},
   "outputs": [],
   "source": [
    "import sys\n",
    "import os\n",
    "\n",
    "path = os.path.abspath(os.path.join('..'))\n",
    "if path not in sys.path:\n",
    "    sys.path.append(path)"
   ]
  },
  {
   "cell_type": "code",
   "execution_count": 2,
   "metadata": {},
   "outputs": [
    {
     "data": {
      "text/plain": [
       "(100,\n",
       " Batch(trajectories=tensor([[ 0.0000,  0.0000,  0.8475,  ...,  0.1931, -0.2979, -0.0831],\n",
       "         [ 0.0415, -0.0047,  0.8466,  ...,  0.1812, -0.2662, -0.1258],\n",
       "         [ 0.0817, -0.0105,  0.8483,  ...,  0.1293, -0.1646, -0.1874],\n",
       "         ...,\n",
       "         [ 0.9535,  0.0164,  0.8741,  ...,  0.0799, -0.2361, -0.1045],\n",
       "         [ 0.9810,  0.0152,  0.8736,  ...,  0.0750, -0.2538, -0.1148],\n",
       "         [ 1.0080,  0.0138,  0.8721,  ...,  0.0762, -0.2713, -0.1198]]), conditions={0: tensor([ 0.0000e+00,  0.0000e+00,  8.4753e-01,  9.9868e-01,  1.4104e-02,\n",
       "          4.9423e-02, -6.9800e-04,  1.9375e-02,  8.0373e-03, -9.5239e-02,\n",
       "         -0.0000e+00,  0.0000e+00, -0.0000e+00, -1.5554e-01,  2.3919e-01,\n",
       "          2.0740e-01,  1.7057e-01,  3.5296e-01, -2.6107e-01, -2.4561e-01,\n",
       "          5.8135e-01,  2.0352e-02, -5.1757e-01, -1.1376e-01, -2.4912e-01,\n",
       "          2.0556e-02, -1.9534e-02,  6.5527e-02, -5.6064e-02,  1.5210e-01,\n",
       "          1.8274e-01, -3.9153e-01,  1.9312e-01, -2.9789e-01, -8.3057e-02])}),\n",
       " torch.Size([32, 35]))"
      ]
     },
     "execution_count": 2,
     "metadata": {},
     "output_type": "execute_result"
    }
   ],
   "source": [
    "from diffusion.data_loaders.motion_dataset import MotionDataset\n",
    "dataset = MotionDataset(\"/home/kenji/Fyp/DeepMimic_mujoco/diffusion/data/motions/humanoid3d_walk.txt\")\n",
    "len(dataset), dataset[0], dataset[0].trajectories.shape"
   ]
  },
  {
   "cell_type": "markdown",
   "metadata": {},
   "source": [
    "### Model NN"
   ]
  },
  {
   "cell_type": "code",
   "execution_count": 3,
   "metadata": {},
   "outputs": [],
   "source": [
    "import torch\n",
    "from diffusion.diffuser.utils import Trainer as dTrainer, Config as dConfig\n",
    "\n",
    "savepath = '/home/kenji/Fyp/DeepMimic_mujoco/diffusion/logs/walk-motion'\n",
    "device = 'cuda:0' if torch.cuda.is_available() else 'cpu'"
   ]
  },
  {
   "cell_type": "code",
   "execution_count": 10,
   "metadata": {},
   "outputs": [
    {
     "name": "stdout",
     "output_type": "stream",
     "text": [
      "\n",
      "[utils/config ] Config: <class 'diffusion.diffuser.models.temporal.TemporalUnet'>\n",
      "    cond_dim: 35\n",
      "    horizon: 32\n",
      "    transition_dim: 35\n",
      "\n",
      "[ utils/config ] Saved config to: /home/kenji/Fyp/DeepMimic_mujoco/diffusion/logs/walk-motion/model_config.pkl\n",
      "\n",
      "[ models/temporal ] Channel dimensions: [(35, 32), (32, 64), (64, 128), (128, 256)]\n",
      "[(35, 32), (32, 64), (64, 128), (128, 256)]\n"
     ]
    }
   ],
   "source": [
    "from diffusion.diffuser.models.temporal import TemporalUnet \n",
    "\n",
    "horizon = dataset[0].trajectories.shape[0]\n",
    "horizon=32\n",
    "transition_dim = dataset[0].trajectories.shape[1]\n",
    "\n",
    "model_config = dConfig(\n",
    "    TemporalUnet,\n",
    "    savepath=(savepath, 'model_config.pkl'),\n",
    "    horizon=horizon,\n",
    "    transition_dim=transition_dim,\n",
    "    cond_dim=transition_dim,\n",
    "    device=device,\n",
    ")\n",
    "model = model_config()"
   ]
  },
  {
   "cell_type": "code",
   "execution_count": 11,
   "metadata": {},
   "outputs": [
    {
     "name": "stdout",
     "output_type": "stream",
     "text": [
      "\n",
      "[utils/config ] Config: <class 'diffusion.diffuser.models.diffusion.GaussianDiffusion'>\n",
      "    action_weight: 5\n",
      "    clip_denoised: False\n",
      "    horizon: 32\n",
      "    loss_discount: 1\n",
      "    loss_type: l2\n",
      "    loss_weights: None\n",
      "    n_timesteps: 20\n",
      "    predict_epsilon: False\n",
      "    transition_dim: 35\n",
      "\n",
      "[ utils/config ] Saved config to: /home/kenji/Fyp/DeepMimic_mujoco/diffusion/logs/walk-motion/diffusion_config.pkl\n",
      "\n"
     ]
    }
   ],
   "source": [
    "from diffusion.diffuser.models.diffusion import GaussianDiffusion\n",
    "\n",
    "n_timesteps = 20\n",
    "loss_type = 'l2'\n",
    "clip_denoised = False\n",
    "predict_epsilon = False\n",
    "action_weight = 5\n",
    "loss_weights = None\n",
    "loss_discount = 1\n",
    "\n",
    "diffusion_config = dConfig(\n",
    "    GaussianDiffusion,\n",
    "    savepath=(savepath, 'diffusion_config.pkl'),\n",
    "    horizon=horizon,\n",
    "    transition_dim=transition_dim,\n",
    "    n_timesteps=n_timesteps,\n",
    "    loss_type=loss_type,\n",
    "    clip_denoised=clip_denoised,\n",
    "    predict_epsilon=predict_epsilon,\n",
    "    # loss weighting\n",
    "    action_weight=action_weight,\n",
    "    loss_weights=loss_weights,\n",
    "    loss_discount=loss_discount,\n",
    "    device=device,\n",
    ")\n",
    "\n",
    "diffusion = diffusion_config(model)"
   ]
  },
  {
   "cell_type": "code",
   "execution_count": 12,
   "metadata": {},
   "outputs": [
    {
     "name": "stdout",
     "output_type": "stream",
     "text": [
      "\n",
      "[utils/config ] Config: <class 'diffusion.diffuser.utils.training.Trainer'>\n",
      "    bucket: None\n",
      "    ema_decay: 0.995\n",
      "    gradient_accumulate_every: 2\n",
      "    label_freq: 20000\n",
      "    n_reference: 8\n",
      "    results_folder: /home/kenji/Fyp/DeepMimic_mujoco/diffusion/logs/walk-motion\n",
      "    sample_freq: 2000\n",
      "    save_freq: 2000\n",
      "    save_parallel: False\n",
      "    train_batch_size: 32\n",
      "    train_lr: 0.0002\n",
      "\n",
      "[ utils/config ] Saved config to: /home/kenji/Fyp/DeepMimic_mujoco/diffusion/logs/walk-motion/trainer_config.pkl\n",
      "\n"
     ]
    }
   ],
   "source": [
    "learning_rate = 2e-4\n",
    "gradient_accumulate_every = 2\n",
    "ema_decay = 0.995\n",
    "sample_freq = 2000\n",
    "save_freq = 2000\n",
    "n_train_steps = 1e5\n",
    "n_saves = 5\n",
    "save_parallel = False\n",
    "bucket = None\n",
    "n_reference = 8\n",
    "train_batch_size = 32\n",
    "\n",
    "trainer_config = dConfig(\n",
    "    dTrainer,\n",
    "    savepath=(savepath, 'trainer_config.pkl'),\n",
    "    train_batch_size=train_batch_size,\n",
    "    train_lr=learning_rate,\n",
    "    gradient_accumulate_every=gradient_accumulate_every,\n",
    "    ema_decay=ema_decay,\n",
    "    sample_freq=sample_freq,\n",
    "    save_freq=save_freq,\n",
    "    label_freq=int(n_train_steps // n_saves),\n",
    "    save_parallel=save_parallel,\n",
    "    results_folder=savepath,\n",
    "    bucket=bucket,\n",
    "    n_reference=n_reference,\n",
    ")\n",
    "\n",
    "trainer = trainer_config(diffusion, dataset, renderer=None)"
   ]
  },
  {
   "cell_type": "code",
   "execution_count": 13,
   "metadata": {},
   "outputs": [
    {
     "name": "stdout",
     "output_type": "stream",
     "text": [
      "x.shape torch.Size([1, 32, 35])\n",
      "x.shape torch.Size([1, 35, 32])\n",
      "x.shape torch.Size([1, 32, 32])\n",
      "1\n",
      "xfinal.shape torch.Size([1, 32, 16])\n",
      "x.shape torch.Size([1, 64, 16])\n",
      "2\n",
      "xfinal.shape torch.Size([1, 64, 8])\n",
      "x.shape torch.Size([1, 128, 8])\n",
      "3\n",
      "xfinal.shape torch.Size([1, 128, 4])\n",
      "x.shape torch.Size([1, 256, 4])\n",
      "4\n",
      "xfinal.shape torch.Size([1, 256, 4])\n",
      "xt1.shape torch.Size([1, 256, 4])\n",
      "xt2.shape torch.Size([1, 256, 4])\n",
      "xt3.shape torch.Size([1, 256, 4])\n",
      "pop.shape torch.Size([1, 256, 4])\n",
      "pop.shape torch.Size([1, 128, 8])\n",
      "pop.shape torch.Size([1, 64, 16])\n"
     ]
    },
    {
     "data": {
      "text/plain": [
       "(tensor([[[ 0.1907, -0.4120,  0.2163,  ...,  0.4205, -0.1087, -0.4488],\n",
       "          [ 0.0332, -0.0975,  0.7419,  ...,  0.3694,  0.0594, -0.8278],\n",
       "          [ 0.3381, -0.0609,  0.1372,  ...,  1.0427,  0.3293, -0.3584],\n",
       "          ...,\n",
       "          [-0.4308, -0.2090,  0.6057,  ...,  0.1371,  0.0086, -0.4776],\n",
       "          [-0.0068, -0.0973,  0.2200,  ..., -0.3001,  0.1707, -0.2099],\n",
       "          [ 0.0530,  0.1302,  0.3731,  ..., -0.0224, -0.3183, -0.0256]]],\n",
       "        device='cuda:0', grad_fn=<PermuteBackward0>),\n",
       " torch.Size([1, 32, 35]))"
      ]
     },
     "execution_count": 13,
     "metadata": {},
     "output_type": "execute_result"
    }
   ],
   "source": [
    "import torch\n",
    "from diffuser.utils import batchify\n",
    "\n",
    "tunet = model\n",
    "tunet.to(device)\n",
    "test_data = dataset[0]\n",
    "batch = batchify(test_data)\n",
    "t = torch.randint(0, 1000, (1,), device=device).long().to(device)\n",
    "res = tunet(batch.trajectories, cond=batch.conditions, time=t, verbose=True)\n",
    "res, res.shape"
   ]
  },
  {
   "cell_type": "code",
   "execution_count": 14,
   "metadata": {},
   "outputs": [
    {
     "name": "stdout",
     "output_type": "stream",
     "text": [
      "[ utils/arrays ] Total parameters: 3.96 M\n",
      "         downs.3.0.blocks.1.block.0.weight: 327.68 k | Conv1d(256, 256, kernel_size=(5,), stride=(1,), padding=(2,))\n",
      "         downs.3.1.blocks.0.block.0.weight: 327.68 k | Conv1d(256, 256, kernel_size=(5,), stride=(1,), padding=(2,))\n",
      "         downs.3.1.blocks.1.block.0.weight: 327.68 k | Conv1d(256, 256, kernel_size=(5,), stride=(1,), padding=(2,))\n",
      "         ups.0.0.blocks.0.block.0.weight: 327.68 k | Conv1d(512, 128, kernel_size=(5,), stride=(1,), padding=(2,))\n",
      "         mid_block1.blocks.0.block.0.weight: 327.68 k | Conv1d(256, 256, kernel_size=(5,), stride=(1,), padding=(2,))\n",
      "         mid_block1.blocks.1.block.0.weight: 327.68 k | Conv1d(256, 256, kernel_size=(5,), stride=(1,), padding=(2,))\n",
      "         mid_block2.blocks.0.block.0.weight: 327.68 k | Conv1d(256, 256, kernel_size=(5,), stride=(1,), padding=(2,))\n",
      "         mid_block2.blocks.1.block.0.weight: 327.68 k | Conv1d(256, 256, kernel_size=(5,), stride=(1,), padding=(2,))\n",
      "         downs.3.0.blocks.0.block.0.weight: 163.84 k | Conv1d(128, 256, kernel_size=(5,), stride=(1,), padding=(2,))\n",
      "         downs.2.0.blocks.1.block.0.weight: 81.92 k | Conv1d(128, 128, kernel_size=(5,), stride=(1,), padding=(2,))\n",
      "         ... and 186 others accounting for 1.09 M parameters\n",
      "Testing forward... ✓\n"
     ]
    }
   ],
   "source": [
    "from diffuser.utils import report_parameters, batchify\n",
    "\n",
    "report_parameters(model)\n",
    "\n",
    "print('Testing forward...', end=' ', flush=True)\n",
    "x = dataset[0]\n",
    "batch = batchify(x)\n",
    "loss, _ = diffusion.loss(batch.trajectories, {})\n",
    "loss.backward()\n",
    "print('✓')"
   ]
  },
  {
   "cell_type": "code",
   "execution_count": 15,
   "metadata": {},
   "outputs": [
    {
     "name": "stdout",
     "output_type": "stream",
     "text": [
      "100\n",
      "Epoch 0 / 1 | /home/kenji/Fyp/DeepMimic_mujoco/diffusion/logs/walk-motion\n",
      "[ utils/training ] Saved model to /home/kenji/Fyp/DeepMimic_mujoco/diffusion/logs/walk-motion/state_0.pt\n",
      "0:   0.1670 | a0_loss:   0.0306 | t:   0.3268\n",
      "100:   0.0170 | a0_loss:   0.0028 | t:   8.7908\n",
      "200:   0.0044 | a0_loss:   0.0005 | t:   8.6935\n",
      "300:   0.0015 | a0_loss:   0.0001 | t:   8.6820\n",
      "400:   0.0008 | a0_loss:   0.0000 | t:   8.7147\n",
      "500:   0.0005 | a0_loss:   0.0000 | t:   8.3912\n",
      "600:   0.0003 | a0_loss:   0.0000 | t:   8.1970\n",
      "700:   0.0003 | a0_loss:   0.0000 | t:   8.0636\n",
      "800:   0.0002 | a0_loss:   0.0000 | t:   7.9779\n",
      "900:   0.0001 | a0_loss:   0.0000 | t:   8.1956\n",
      "[ utils/training ] Saved model to /home/kenji/Fyp/DeepMimic_mujoco/diffusion/logs/walk-motion/state_1.pt\n"
     ]
    }
   ],
   "source": [
    "n_steps_per_epoch = 1000\n",
    "n_epochs = int(n_train_steps // n_steps_per_epoch)\n",
    "print(n_epochs)\n",
    "n_epochs = 1\n",
    "\n",
    "for i in range(n_epochs):\n",
    "    print(f'Epoch {i} / {n_epochs} | {savepath}')\n",
    "    trainer.train(n_train_steps=n_steps_per_epoch)\n",
    "\n",
    "trainer.save(n_epochs)"
   ]
  },
  {
   "cell_type": "code",
   "execution_count": 16,
   "metadata": {},
   "outputs": [],
   "source": [
    "# from diffusion.diffuser.utils import load_diffusion\n",
    "\n",
    "# diffusion_experiment = load_diffusion(\n",
    "#     \"/home/kenji/Fyp/DeepMimic_mujoco/diffusion/logs/diffuser\", dataset=dataset, epoch=1)\n",
    "\n",
    "# renderer = diffusion_experiment.renderer\n",
    "# model = diffusion_experiment.trainer.ema_model\n",
    "\n",
    "trainer.load(1)\n",
    "model = trainer.ema_model"
   ]
  },
  {
   "cell_type": "code",
   "execution_count": 17,
   "metadata": {},
   "outputs": [
    {
     "name": "stdout",
     "output_type": "stream",
     "text": [
      "\n",
      "\u001b[F                                                                                                    \n",
      "\u001b[F1 / 20 [###                                                         ]   5% | 4.3 Hz\n",
      "t : 19 | vmax : 0.0 | vmin : 0.0\n",
      "\u001b[F\u001b[F                                                                                                    \n",
      "                                                                                                    \n",
      "\u001b[F\u001b[F2 / 20 [######                                                      ]  10% | 8.3 Hz\n",
      "t : 18 | vmax : 0.0 | vmin : 0.0\n",
      "\u001b[F\u001b[F                                                                                                    \n",
      "                                                                                                    \n",
      "\u001b[F\u001b[F3 / 20 [#########                                                   ]  15% | 12.1 Hz\n",
      "t : 17 | vmax : 0.0 | vmin : 0.0\n",
      "\u001b[F\u001b[F                                                                                                    \n",
      "                                                                                                    \n",
      "\u001b[F\u001b[F4 / 20 [############                                                ]  20% | 15.5 Hz\n",
      "t : 16 | vmax : 0.0 | vmin : 0.0\n",
      "\u001b[F\u001b[F                                                                                                    \n",
      "                                                                                                    \n",
      "\u001b[F\u001b[F5 / 20 [###############                                             ]  25% | 18.7 Hz\n",
      "t : 15 | vmax : 0.0 | vmin : 0.0\n",
      "\u001b[F\u001b[F                                                                                                    \n",
      "                                                                                                    \n",
      "\u001b[F\u001b[F6 / 20 [##################                                          ]  30% | 21.8 Hz\n",
      "t : 14 | vmax : 0.0 | vmin : 0.0\n",
      "\u001b[F\u001b[F                                                                                                    \n",
      "                                                                                                    \n",
      "\u001b[F\u001b[F7 / 20 [#####################                                       ]  35% | 24.5 Hz\n",
      "t : 13 | vmax : 0.0 | vmin : 0.0\n",
      "\u001b[F\u001b[F                                                                                                    \n",
      "                                                                                                    \n",
      "\u001b[F\u001b[F8 / 20 [########################                                    ]  40% | 27.2 Hz\n",
      "t : 12 | vmax : 0.0 | vmin : 0.0\n",
      "\u001b[F\u001b[F                                                                                                    \n",
      "                                                                                                    \n",
      "\u001b[F\u001b[F9 / 20 [###########################                                 ]  45% | 29.5 Hz\n",
      "t : 11 | vmax : 0.0 | vmin : 0.0\n",
      "\u001b[F\u001b[F                                                                                                    \n",
      "                                                                                                    \n",
      "\u001b[F\u001b[F10 / 20 [##############################                              ]  50% | 31.5 Hz\n",
      "t : 10 | vmax : 0.0 | vmin : 0.0\n",
      "\u001b[F\u001b[F                                                                                                    \n",
      "                                                                                                    \n",
      "\u001b[F\u001b[F11 / 20 [#################################                           ]  55% | 33.6 Hz\n",
      "t : 9 | vmax : 0.0 | vmin : 0.0\n",
      "\u001b[F\u001b[F                                                                                                    \n",
      "                                                                                                    \n",
      "\u001b[F\u001b[F12 / 20 [####################################                        ]  60% | 35.4 Hz\n",
      "t : 8 | vmax : 0.0 | vmin : 0.0\n",
      "\u001b[F\u001b[F                                                                                                    \n",
      "                                                                                                    \n",
      "\u001b[F\u001b[F13 / 20 [#######################################                     ]  65% | 37.3 Hz\n",
      "t : 7 | vmax : 0.0 | vmin : 0.0\n",
      "\u001b[F\u001b[F                                                                                                    \n",
      "                                                                                                    \n",
      "\u001b[F\u001b[F14 / 20 [##########################################                  ]  70% | 39.2 Hz\n",
      "t : 6 | vmax : 0.0 | vmin : 0.0\n",
      "\u001b[F\u001b[F                                                                                                    \n",
      "                                                                                                    \n",
      "\u001b[F\u001b[F15 / 20 [#############################################               ]  75% | 40.8 Hz\n",
      "t : 5 | vmax : 0.0 | vmin : 0.0\n",
      "\u001b[F\u001b[F                                                                                                    \n",
      "                                                                                                    \n",
      "\u001b[F\u001b[F16 / 20 [################################################            ]  80% | 42.5 Hz\n",
      "t : 4 | vmax : 0.0 | vmin : 0.0\n",
      "\u001b[F\u001b[F                                                                                                    \n",
      "                                                                                                    \n",
      "\u001b[F\u001b[F17 / 20 [###################################################         ]  85% | 44.1 Hz\n",
      "t : 3 | vmax : 0.0 | vmin : 0.0\n",
      "\u001b[F\u001b[F                                                                                                    \n",
      "                                                                                                    \n",
      "\u001b[F\u001b[F18 / 20 [######################################################      ]  90% | 45.6 Hz\n",
      "t : 2 | vmax : 0.0 | vmin : 0.0\n",
      "\u001b[F\u001b[F                                                                                                    \n",
      "                                                                                                    \n",
      "\u001b[F\u001b[F19 / 20 [#########################################################   ]  95% | 47.1 Hz\n",
      "t : 1 | vmax : 0.0 | vmin : 0.0\n",
      "\u001b[F\u001b[F                                                                                                    \n",
      "                                                                                                    \n",
      "\u001b[F\u001b[F20 / 20 [############################################################] 100% | 48.0 Hz\n",
      "t : 0 | vmax : 0.0 | vmin : 0.0\n",
      "\u001b[F\u001b[F                                                                                                    \n",
      "                                                                                                    \n",
      "\u001b[F\u001b[F[ Progress ] 20 / 20 | t : 0 | vmax : 0.0 | vmin : 0.0 | 48.0 Hz\n"
     ]
    }
   ],
   "source": [
    "from diffuser.utils import batchify\n",
    "test = dataset[0]\n",
    "batch = batchify(test)\n",
    "sample = diffusion.p_sample_loop(batch.trajectories.shape, batch.conditions)"
   ]
  },
  {
   "cell_type": "code",
   "execution_count": 18,
   "metadata": {},
   "outputs": [
    {
     "data": {
      "text/plain": [
       "(Sample(trajectories=tensor([[[-0.0067, -0.0021,  0.8461,  ...,  0.1909, -0.3016, -0.0936],\n",
       "          [ 0.0473, -0.0040,  0.8615,  ...,  0.1811, -0.2591, -0.1094],\n",
       "          [ 0.1032, -0.0228,  0.8639,  ...,  0.1325, -0.1521, -0.1582],\n",
       "          ...,\n",
       "          [ 0.9593,  0.0071,  0.8669,  ...,  0.0916, -0.2370, -0.0900],\n",
       "          [ 0.9868,  0.0193,  0.8438,  ...,  0.0842, -0.2468, -0.1166],\n",
       "          [ 0.9974,  0.0102,  0.8574,  ...,  0.0790, -0.2689, -0.1128]]],\n",
       "        device='cuda:0'), values=tensor([0.], device='cuda:0'), chains=None),\n",
       " torch.Size([1, 32, 35]))"
      ]
     },
     "execution_count": 18,
     "metadata": {},
     "output_type": "execute_result"
    }
   ],
   "source": [
    "sample, sample.trajectories.shape"
   ]
  },
  {
   "cell_type": "code",
   "execution_count": 19,
   "metadata": {},
   "outputs": [
    {
     "data": {
      "text/plain": [
       "(Batch(trajectories=tensor([[ 0.0000,  0.0000,  0.8475,  ...,  0.1931, -0.2979, -0.0831],\n",
       "         [ 0.0415, -0.0047,  0.8466,  ...,  0.1812, -0.2662, -0.1258],\n",
       "         [ 0.0817, -0.0105,  0.8483,  ...,  0.1293, -0.1646, -0.1874],\n",
       "         ...,\n",
       "         [ 0.9535,  0.0164,  0.8741,  ...,  0.0799, -0.2361, -0.1045],\n",
       "         [ 0.9810,  0.0152,  0.8736,  ...,  0.0750, -0.2538, -0.1148],\n",
       "         [ 1.0080,  0.0138,  0.8721,  ...,  0.0762, -0.2713, -0.1198]]), conditions={0: tensor([ 0.0000e+00,  0.0000e+00,  8.4753e-01,  9.9868e-01,  1.4104e-02,\n",
       "          4.9423e-02, -6.9800e-04,  1.9375e-02,  8.0373e-03, -9.5239e-02,\n",
       "         -0.0000e+00,  0.0000e+00, -0.0000e+00, -1.5554e-01,  2.3919e-01,\n",
       "          2.0740e-01,  1.7057e-01,  3.5296e-01, -2.6107e-01, -2.4561e-01,\n",
       "          5.8135e-01,  2.0352e-02, -5.1757e-01, -1.1376e-01, -2.4912e-01,\n",
       "          2.0556e-02, -1.9534e-02,  6.5527e-02, -5.6064e-02,  1.5210e-01,\n",
       "          1.8274e-01, -3.9153e-01,  1.9312e-01, -2.9789e-01, -8.3057e-02])}),\n",
       " torch.Size([32, 35]))"
      ]
     },
     "execution_count": 19,
     "metadata": {},
     "output_type": "execute_result"
    }
   ],
   "source": [
    "dataset[0], dataset[0].trajectories.shape"
   ]
  },
  {
   "cell_type": "code",
   "execution_count": 21,
   "metadata": {},
   "outputs": [
    {
     "name": "stdout",
     "output_type": "stream",
     "text": [
      "Motion 0 saved as motion1.npy\n"
     ]
    }
   ],
   "source": [
    "import numpy as np\n",
    "\n",
    "\n",
    "def save_motions(sample, output_dir, filename=\"motion.npy\"):\n",
    "    filepath = os.path.join(output_dir, filename)\n",
    "    pos_data = sample.trajectories.squeeze(0).cpu().numpy()\n",
    "    np.save(filepath, pos_data)\n",
    "    print(f\"Motion {i} saved as {filename}\")\n",
    "\n",
    "\n",
    "save_motions(sample, f\"{savepath}/sampled_motions\", filename=\"motion1.npy\")"
   ]
  },
  {
   "cell_type": "code",
   "execution_count": null,
   "metadata": {},
   "outputs": [],
   "source": []
  }
 ],
 "metadata": {
  "kernelspec": {
   "display_name": "fyp",
   "language": "python",
   "name": "python3"
  },
  "language_info": {
   "codemirror_mode": {
    "name": "ipython",
    "version": 3
   },
   "file_extension": ".py",
   "mimetype": "text/x-python",
   "name": "python",
   "nbconvert_exporter": "python",
   "pygments_lexer": "ipython3",
   "version": "3.8.18"
  }
 },
 "nbformat": 4,
 "nbformat_minor": 2
}
