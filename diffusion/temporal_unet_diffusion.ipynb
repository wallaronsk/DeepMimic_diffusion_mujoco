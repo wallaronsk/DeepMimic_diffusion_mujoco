{
 "cells": [
  {
   "cell_type": "code",
   "execution_count": 1,
   "metadata": {},
   "outputs": [],
   "source": [
    "import sys\n",
    "import os\n",
    "\n",
    "path = os.path.abspath(os.path.join('..'))\n",
    "if path not in sys.path:\n",
    "    sys.path.append(path)"
   ]
  },
  {
   "cell_type": "code",
   "execution_count": 2,
   "metadata": {},
   "outputs": [
    {
     "data": {
      "text/plain": [
       "(100,\n",
       " Batch(trajectories=tensor([[ 0.0000,  0.0000,  0.8251,  ..., -0.5877, -0.5578, -0.1123],\n",
       "         [-0.0098, -0.0053,  0.8223,  ..., -0.6034, -0.5496, -0.1377],\n",
       "         [-0.0205, -0.0135,  0.8187,  ..., -0.6073, -0.5372, -0.1672],\n",
       "         ...,\n",
       "         [ 0.2570, -0.0458,  0.8492,  ..., -0.3039, -0.5771, -0.0356],\n",
       "         [ 0.2659, -0.0516,  0.8421,  ..., -0.2956, -0.5725, -0.0793],\n",
       "         [ 0.2787, -0.0612,  0.8371,  ..., -0.3081, -0.5633, -0.1231]]), conditions={0: tensor([ 0.0000,  0.0000,  0.8251, -0.9969,  0.0457, -0.0639, -0.0029, -0.0399,\n",
       "          0.0621, -0.0921,  0.0930,  0.4230,  0.1155, -1.4425,  0.4709, -0.4550,\n",
       "          1.1228,  1.3071, -0.7625, -0.2475,  1.4452, -0.1059, -0.4803,  0.0466,\n",
       "         -0.8114,  0.0888, -0.3455, -0.1734,  0.2040, -0.1554,  0.3841, -0.6268,\n",
       "         -0.5877, -0.5578, -0.1123])}),\n",
       " torch.Size([64, 35]))"
      ]
     },
     "execution_count": 2,
     "metadata": {},
     "output_type": "execute_result"
    }
   ],
   "source": [
    "from diffusion.data_loaders.spinkick_diffuser_dataset import SpinkickDiffuserDataset\n",
    "dataset = SpinkickDiffuserDataset(\"/home/kenji/Fyp/DeepMimic_mujoco/diffusion/data/motions/humanoid3d_spinkick.txt\")\n",
    "len(dataset), dataset[0], dataset[0].trajectories.shape"
   ]
  },
  {
   "cell_type": "markdown",
   "metadata": {},
   "source": [
    "### Model NN"
   ]
  },
  {
   "cell_type": "code",
   "execution_count": 14,
   "metadata": {},
   "outputs": [],
   "source": [
    "import torch\n",
    "from diffusion.diffuser.utils import Trainer as dTrainer, Config as dConfig\n",
    "\n",
    "savepath = '/home/kenji/Fyp/DeepMimic_mujoco/diffusion/logs/diffuser2'\n",
    "device = 'cuda:0' if torch.cuda.is_available() else 'cpu'"
   ]
  },
  {
   "cell_type": "code",
   "execution_count": 15,
   "metadata": {},
   "outputs": [
    {
     "name": "stdout",
     "output_type": "stream",
     "text": [
      "\n",
      "[utils/config ] Config: <class 'diffusion.diffuser.models.temporal.TemporalUnet'>\n",
      "    cond_dim: 35\n",
      "    horizon: 64\n",
      "    transition_dim: 35\n",
      "\n",
      "[ utils/config ] Saved config to: /home/kenji/Fyp/DeepMimic_mujoco/diffusion/logs/diffuser2/model_config.pkl\n",
      "\n",
      "[ models/temporal ] Channel dimensions: [(35, 32), (32, 64), (64, 128), (128, 256)]\n",
      "[(35, 32), (32, 64), (64, 128), (128, 256)]\n"
     ]
    }
   ],
   "source": [
    "from diffusion.diffuser.models.temporal import TemporalUnet \n",
    "\n",
    "horizon = dataset[0].trajectories.shape[0]\n",
    "horizon=64\n",
    "transition_dim = dataset[0].trajectories.shape[1]\n",
    "\n",
    "model_config = dConfig(\n",
    "    TemporalUnet,\n",
    "    savepath=(savepath, 'model_config.pkl'),\n",
    "    horizon=horizon,\n",
    "    transition_dim=transition_dim,\n",
    "    cond_dim=transition_dim,\n",
    "    device=device,\n",
    ")\n",
    "model = model_config()"
   ]
  },
  {
   "cell_type": "code",
   "execution_count": 16,
   "metadata": {},
   "outputs": [
    {
     "name": "stdout",
     "output_type": "stream",
     "text": [
      "\n",
      "[utils/config ] Config: <class 'diffusion.diffuser.models.diffusion.GaussianDiffusion'>\n",
      "    action_weight: 5\n",
      "    clip_denoised: False\n",
      "    horizon: 64\n",
      "    loss_discount: 1\n",
      "    loss_type: l2\n",
      "    loss_weights: None\n",
      "    n_timesteps: 20\n",
      "    predict_epsilon: False\n",
      "    transition_dim: 35\n",
      "\n",
      "[ utils/config ] Saved config to: /home/kenji/Fyp/DeepMimic_mujoco/diffusion/logs/diffuser2/diffusion_config.pkl\n",
      "\n"
     ]
    }
   ],
   "source": [
    "from diffusion.diffuser.models.diffusion import GaussianDiffusion\n",
    "\n",
    "n_timesteps = 20\n",
    "loss_type = 'l2'\n",
    "clip_denoised = False\n",
    "predict_epsilon = False\n",
    "action_weight = 5\n",
    "loss_weights = None\n",
    "loss_discount = 1\n",
    "\n",
    "diffusion_config = dConfig(\n",
    "    GaussianDiffusion,\n",
    "    savepath=(savepath, 'diffusion_config.pkl'),\n",
    "    horizon=horizon,\n",
    "    transition_dim=transition_dim,\n",
    "    n_timesteps=n_timesteps,\n",
    "    loss_type=loss_type,\n",
    "    clip_denoised=clip_denoised,\n",
    "    predict_epsilon=predict_epsilon,\n",
    "    # loss weighting\n",
    "    action_weight=action_weight,\n",
    "    loss_weights=loss_weights,\n",
    "    loss_discount=loss_discount,\n",
    "    device=device,\n",
    ")\n",
    "\n",
    "diffusion = diffusion_config(model)"
   ]
  },
  {
   "cell_type": "code",
   "execution_count": 17,
   "metadata": {},
   "outputs": [
    {
     "name": "stdout",
     "output_type": "stream",
     "text": [
      "\n",
      "[utils/config ] Config: <class 'diffusion.diffuser.utils.training.Trainer'>\n",
      "    bucket: None\n",
      "    ema_decay: 0.995\n",
      "    gradient_accumulate_every: 2\n",
      "    label_freq: 20000\n",
      "    n_reference: 8\n",
      "    results_folder: /home/kenji/Fyp/DeepMimic_mujoco/diffusion/logs/diffuser2\n",
      "    sample_freq: 2000\n",
      "    save_freq: 2000\n",
      "    save_parallel: False\n",
      "    train_batch_size: 32\n",
      "    train_lr: 0.0002\n",
      "\n",
      "[ utils/config ] Saved config to: /home/kenji/Fyp/DeepMimic_mujoco/diffusion/logs/diffuser2/trainer_config.pkl\n",
      "\n"
     ]
    }
   ],
   "source": [
    "learning_rate = 2e-4\n",
    "gradient_accumulate_every = 2\n",
    "ema_decay = 0.995\n",
    "sample_freq = 2000\n",
    "save_freq = 2000\n",
    "n_train_steps = 1e5\n",
    "n_saves = 5\n",
    "save_parallel = False\n",
    "bucket = None\n",
    "n_reference = 8\n",
    "train_batch_size = 32\n",
    "\n",
    "trainer_config = dConfig(\n",
    "    dTrainer,\n",
    "    savepath=(savepath, 'trainer_config.pkl'),\n",
    "    train_batch_size=train_batch_size,\n",
    "    train_lr=learning_rate,\n",
    "    gradient_accumulate_every=gradient_accumulate_every,\n",
    "    ema_decay=ema_decay,\n",
    "    sample_freq=sample_freq,\n",
    "    save_freq=save_freq,\n",
    "    label_freq=int(n_train_steps // n_saves),\n",
    "    save_parallel=save_parallel,\n",
    "    results_folder=savepath,\n",
    "    bucket=bucket,\n",
    "    n_reference=n_reference,\n",
    ")\n",
    "\n",
    "trainer = trainer_config(diffusion, dataset, renderer=None)"
   ]
  },
  {
   "cell_type": "code",
   "execution_count": 18,
   "metadata": {},
   "outputs": [
    {
     "name": "stdout",
     "output_type": "stream",
     "text": [
      "x.shape torch.Size([1, 64, 35])\n",
      "x.shape torch.Size([1, 35, 64])\n",
      "x.shape torch.Size([1, 32, 64])\n",
      "1\n",
      "xfinal.shape torch.Size([1, 32, 32])\n",
      "x.shape torch.Size([1, 64, 32])\n",
      "2\n",
      "xfinal.shape torch.Size([1, 64, 16])\n",
      "x.shape torch.Size([1, 128, 16])\n",
      "3\n",
      "xfinal.shape torch.Size([1, 128, 8])\n",
      "x.shape torch.Size([1, 256, 8])\n",
      "4\n",
      "xfinal.shape torch.Size([1, 256, 8])\n",
      "xt1.shape torch.Size([1, 256, 8])\n",
      "xt2.shape torch.Size([1, 256, 8])\n",
      "xt3.shape torch.Size([1, 256, 8])\n",
      "pop.shape torch.Size([1, 256, 8])\n",
      "pop.shape torch.Size([1, 128, 16])\n",
      "pop.shape torch.Size([1, 64, 32])\n"
     ]
    },
    {
     "data": {
      "text/plain": [
       "(tensor([[[-0.2419,  0.2646,  0.0311,  ...,  0.0439, -0.2698, -0.0281],\n",
       "          [-0.1040,  0.1145,  0.1460,  ..., -0.2028, -0.2967,  0.2393],\n",
       "          [-0.0521,  0.1151, -0.0678,  ...,  0.0525, -0.0746,  0.1755],\n",
       "          ...,\n",
       "          [-0.1967,  0.2516,  0.0063,  ..., -0.5132,  0.1369,  0.0428],\n",
       "          [ 0.4825,  0.5278,  0.0043,  ...,  0.1212, -0.2280,  0.1019],\n",
       "          [-0.0719,  0.2038,  0.2535,  ...,  0.3998,  0.4423, -0.2622]]],\n",
       "        device='cuda:0', grad_fn=<PermuteBackward0>),\n",
       " torch.Size([1, 64, 35]))"
      ]
     },
     "execution_count": 18,
     "metadata": {},
     "output_type": "execute_result"
    }
   ],
   "source": [
    "import torch\n",
    "from diffuser.utils import batchify\n",
    "\n",
    "tunet = model\n",
    "tunet.to(device)\n",
    "test_data = dataset[0]\n",
    "batch = batchify(test_data)\n",
    "t = torch.randint(0, 1000, (1,), device=device).long().to(device)\n",
    "res = tunet(batch.trajectories, cond=batch.conditions, time=t, verbose=True)\n",
    "res, res.shape"
   ]
  },
  {
   "cell_type": "code",
   "execution_count": 19,
   "metadata": {},
   "outputs": [
    {
     "name": "stdout",
     "output_type": "stream",
     "text": [
      "[ utils/arrays ] Total parameters: 3.96 M\n",
      "         downs.3.0.blocks.1.block.0.weight: 327.68 k | Conv1d(256, 256, kernel_size=(5,), stride=(1,), padding=(2,))\n",
      "         downs.3.1.blocks.0.block.0.weight: 327.68 k | Conv1d(256, 256, kernel_size=(5,), stride=(1,), padding=(2,))\n",
      "         downs.3.1.blocks.1.block.0.weight: 327.68 k | Conv1d(256, 256, kernel_size=(5,), stride=(1,), padding=(2,))\n",
      "         ups.0.0.blocks.0.block.0.weight: 327.68 k | Conv1d(512, 128, kernel_size=(5,), stride=(1,), padding=(2,))\n",
      "         mid_block1.blocks.0.block.0.weight: 327.68 k | Conv1d(256, 256, kernel_size=(5,), stride=(1,), padding=(2,))\n",
      "         mid_block1.blocks.1.block.0.weight: 327.68 k | Conv1d(256, 256, kernel_size=(5,), stride=(1,), padding=(2,))\n",
      "         mid_block2.blocks.0.block.0.weight: 327.68 k | Conv1d(256, 256, kernel_size=(5,), stride=(1,), padding=(2,))\n",
      "         mid_block2.blocks.1.block.0.weight: 327.68 k | Conv1d(256, 256, kernel_size=(5,), stride=(1,), padding=(2,))\n",
      "         downs.3.0.blocks.0.block.0.weight: 163.84 k | Conv1d(128, 256, kernel_size=(5,), stride=(1,), padding=(2,))\n",
      "         downs.2.0.blocks.1.block.0.weight: 81.92 k | Conv1d(128, 128, kernel_size=(5,), stride=(1,), padding=(2,))\n",
      "         ... and 186 others accounting for 1.09 M parameters\n",
      "Testing forward... ✓\n"
     ]
    }
   ],
   "source": [
    "from diffuser.utils import report_parameters, batchify\n",
    "\n",
    "report_parameters(model)\n",
    "\n",
    "print('Testing forward...', end=' ', flush=True)\n",
    "x = dataset[0]\n",
    "batch = batchify(x)\n",
    "loss, _ = diffusion.loss(batch.trajectories, {})\n",
    "loss.backward()\n",
    "print('✓')"
   ]
  },
  {
   "cell_type": "code",
   "execution_count": 20,
   "metadata": {},
   "outputs": [
    {
     "name": "stdout",
     "output_type": "stream",
     "text": [
      "100\n",
      "Epoch 0 / 1 | /home/kenji/Fyp/DeepMimic_mujoco/diffusion/logs/diffuser2\n",
      "[ utils/training ] Saved model to /home/kenji/Fyp/DeepMimic_mujoco/diffusion/logs/diffuser2/state_0.pt\n",
      "0:   0.4112 | a0_loss:   0.1079 | t:   0.4738\n",
      "100:   0.0828 | a0_loss:   0.0111 | t:   8.3614\n",
      "200:   0.0371 | a0_loss:   0.0046 | t:   8.6597\n",
      "300:   0.0192 | a0_loss:   0.0029 | t:   8.4928\n",
      "400:   0.0108 | a0_loss:   0.0020 | t:   8.7196\n",
      "500:   0.0066 | a0_loss:   0.0014 | t:   8.8373\n",
      "600:   0.0043 | a0_loss:   0.0011 | t:   8.8342\n",
      "700:   0.0030 | a0_loss:   0.0008 | t:   8.7446\n",
      "800:   0.0021 | a0_loss:   0.0006 | t:   8.2157\n",
      "900:   0.0016 | a0_loss:   0.0005 | t:   8.2309\n",
      "[ utils/training ] Saved model to /home/kenji/Fyp/DeepMimic_mujoco/diffusion/logs/diffuser2/state_1.pt\n"
     ]
    }
   ],
   "source": [
    "n_steps_per_epoch = 1000\n",
    "n_epochs = int(n_train_steps // n_steps_per_epoch)\n",
    "print(n_epochs)\n",
    "n_epochs = 1\n",
    "\n",
    "for i in range(n_epochs):\n",
    "    print(f'Epoch {i} / {n_epochs} | {savepath}')\n",
    "    trainer.train(n_train_steps=n_steps_per_epoch)\n",
    "\n",
    "trainer.save(n_epochs)"
   ]
  },
  {
   "cell_type": "code",
   "execution_count": 21,
   "metadata": {},
   "outputs": [],
   "source": [
    "# from diffusion.diffuser.utils import load_diffusion\n",
    "\n",
    "# diffusion_experiment = load_diffusion(\n",
    "#     \"/home/kenji/Fyp/DeepMimic_mujoco/diffusion/logs/diffuser\", dataset=dataset, epoch=1)\n",
    "\n",
    "# renderer = diffusion_experiment.renderer\n",
    "# model = diffusion_experiment.trainer.ema_model\n",
    "\n",
    "trainer.load(1)\n",
    "model = trainer.ema_model"
   ]
  },
  {
   "cell_type": "code",
   "execution_count": 22,
   "metadata": {},
   "outputs": [
    {
     "name": "stdout",
     "output_type": "stream",
     "text": [
      "\n",
      "\u001b[F                                                                                                    \n",
      "\u001b[F1 / 20 [###                                                         ]   5% | 3.6 Hz\n",
      "t : 19 | vmax : 0.0 | vmin : 0.0\n",
      "\u001b[F\u001b[F                                                                                                    \n",
      "                                                                                                    \n",
      "\u001b[F\u001b[F2 / 20 [######                                                      ]  10% | 7.0 Hz\n",
      "t : 18 | vmax : 0.0 | vmin : 0.0\n",
      "\u001b[F\u001b[F                                                                                                    \n",
      "                                                                                                    \n",
      "\u001b[F\u001b[F3 / 20 [#########                                                   ]  15% | 10.2 Hz\n",
      "t : 17 | vmax : 0.0 | vmin : 0.0\n",
      "\u001b[F\u001b[F                                                                                                    \n",
      "                                                                                                    \n",
      "\u001b[F\u001b[F4 / 20 [############                                                ]  20% | 13.2 Hz\n",
      "t : 16 | vmax : 0.0 | vmin : 0.0\n",
      "\u001b[F\u001b[F                                                                                                    \n",
      "                                                                                                    \n",
      "\u001b[F\u001b[F5 / 20 [###############                                             ]  25% | 15.8 Hz\n",
      "t : 15 | vmax : 0.0 | vmin : 0.0\n",
      "\u001b[F\u001b[F                                                                                                    \n",
      "                                                                                                    \n",
      "\u001b[F\u001b[F6 / 20 [##################                                          ]  30% | 18.4 Hz\n",
      "t : 14 | vmax : 0.0 | vmin : 0.0\n",
      "\u001b[F\u001b[F                                                                                                    \n",
      "                                                                                                    \n",
      "\u001b[F\u001b[F7 / 20 [#####################                                       ]  35% | 20.9 Hz\n",
      "t : 13 | vmax : 0.0 | vmin : 0.0\n",
      "\u001b[F\u001b[F                                                                                                    \n",
      "                                                                                                    \n",
      "\u001b[F\u001b[F8 / 20 [########################                                    ]  40% | 23.2 Hz\n",
      "t : 12 | vmax : 0.0 | vmin : 0.0\n",
      "\u001b[F\u001b[F                                                                                                    \n",
      "                                                                                                    \n",
      "\u001b[F\u001b[F9 / 20 [###########################                                 ]  45% | 25.3 Hz\n",
      "t : 11 | vmax : 0.0 | vmin : 0.0\n",
      "\u001b[F\u001b[F                                                                                                    \n",
      "                                                                                                    \n",
      "\u001b[F\u001b[F10 / 20 [##############################                              ]  50% | 27.3 Hz\n",
      "t : 10 | vmax : 0.0 | vmin : 0.0\n",
      "\u001b[F\u001b[F                                                                                                    \n",
      "                                                                                                    \n",
      "\u001b[F\u001b[F11 / 20 [#################################                           ]  55% | 29.4 Hz\n",
      "t : 9 | vmax : 0.0 | vmin : 0.0\n",
      "\u001b[F\u001b[F                                                                                                    \n",
      "                                                                                                    \n",
      "\u001b[F\u001b[F12 / 20 [####################################                        ]  60% | 31.3 Hz\n",
      "t : 8 | vmax : 0.0 | vmin : 0.0\n",
      "\u001b[F\u001b[F                                                                                                    \n",
      "                                                                                                    \n",
      "\u001b[F\u001b[F13 / 20 [#######################################                     ]  65% | 32.4 Hz\n",
      "t : 7 | vmax : 0.0 | vmin : 0.0\n",
      "\u001b[F\u001b[F                                                                                                    \n",
      "                                                                                                    \n",
      "\u001b[F\u001b[F14 / 20 [##########################################                  ]  70% | 34.1 Hz\n",
      "t : 6 | vmax : 0.0 | vmin : 0.0\n",
      "\u001b[F\u001b[F                                                                                                    \n",
      "                                                                                                    \n",
      "\u001b[F\u001b[F15 / 20 [#############################################               ]  75% | 35.6 Hz\n",
      "t : 5 | vmax : 0.0 | vmin : 0.0\n",
      "\u001b[F\u001b[F                                                                                                    \n",
      "                                                                                                    \n",
      "\u001b[F\u001b[F16 / 20 [################################################            ]  80% | 36.9 Hz\n",
      "t : 4 | vmax : 0.0 | vmin : 0.0\n",
      "\u001b[F\u001b[F                                                                                                    \n",
      "                                                                                                    \n",
      "\u001b[F\u001b[F17 / 20 [###################################################         ]  85% | 38.4 Hz\n",
      "t : 3 | vmax : 0.0 | vmin : 0.0\n",
      "\u001b[F\u001b[F                                                                                                    \n",
      "                                                                                                    \n",
      "\u001b[F\u001b[F18 / 20 [######################################################      ]  90% | 38.9 Hz\n",
      "t : 2 | vmax : 0.0 | vmin : 0.0\n",
      "\u001b[F\u001b[F                                                                                                    \n",
      "                                                                                                    \n",
      "\u001b[F\u001b[F19 / 20 [#########################################################   ]  95% | 40.1 Hz\n",
      "t : 1 | vmax : 0.0 | vmin : 0.0\n",
      "\u001b[F\u001b[F                                                                                                    \n",
      "                                                                                                    \n",
      "\u001b[F\u001b[F20 / 20 [############################################################] 100% | 40.9 Hz\n",
      "t : 0 | vmax : 0.0 | vmin : 0.0\n",
      "\u001b[F\u001b[F                                                                                                    \n",
      "                                                                                                    \n",
      "\u001b[F\u001b[F[ Progress ] 20 / 20 | t : 0 | vmax : 0.0 | vmin : 0.0 | 40.9 Hz\n"
     ]
    }
   ],
   "source": [
    "from diffuser.utils import batchify\n",
    "test = dataset[0]\n",
    "batch = batchify(test)\n",
    "sample = diffusion.p_sample_loop(batch.trajectories.shape, batch.conditions)"
   ]
  },
  {
   "cell_type": "code",
   "execution_count": 23,
   "metadata": {},
   "outputs": [
    {
     "data": {
      "text/plain": [
       "(Sample(trajectories=tensor([[[ 2.5701e-02,  1.1854e-02,  8.7868e-01,  ..., -5.8522e-01,\n",
       "           -5.4016e-01, -9.9224e-02],\n",
       "          [ 8.1862e-04, -5.3689e-04,  8.8429e-01,  ..., -5.8408e-01,\n",
       "           -5.3077e-01, -1.2169e-01],\n",
       "          [ 1.8072e-02, -1.2620e-02,  8.2416e-01,  ..., -5.5923e-01,\n",
       "           -5.4517e-01, -1.2093e-01],\n",
       "          ...,\n",
       "          [ 2.8107e-01, -3.1115e-02,  7.7258e-01,  ..., -3.2987e-01,\n",
       "           -5.2195e-01, -9.0142e-03],\n",
       "          [ 2.7092e-01, -3.1723e-02,  8.2494e-01,  ..., -3.3930e-01,\n",
       "           -5.2596e-01, -3.5684e-02],\n",
       "          [ 2.8167e-01, -4.0632e-03,  8.1294e-01,  ..., -3.3599e-01,\n",
       "           -5.3855e-01, -4.1234e-02]]], device='cuda:0'), values=tensor([0.], device='cuda:0'), chains=None),\n",
       " torch.Size([1, 64, 35]))"
      ]
     },
     "execution_count": 23,
     "metadata": {},
     "output_type": "execute_result"
    }
   ],
   "source": [
    "sample, sample.trajectories.shape"
   ]
  },
  {
   "cell_type": "code",
   "execution_count": 24,
   "metadata": {},
   "outputs": [
    {
     "data": {
      "text/plain": [
       "(Batch(trajectories=tensor([[ 0.0000,  0.0000,  0.8251,  ..., -0.5877, -0.5578, -0.1123],\n",
       "         [-0.0098, -0.0053,  0.8223,  ..., -0.6034, -0.5496, -0.1377],\n",
       "         [-0.0205, -0.0135,  0.8187,  ..., -0.6073, -0.5372, -0.1672],\n",
       "         ...,\n",
       "         [ 0.2570, -0.0458,  0.8492,  ..., -0.3039, -0.5771, -0.0356],\n",
       "         [ 0.2659, -0.0516,  0.8421,  ..., -0.2956, -0.5725, -0.0793],\n",
       "         [ 0.2787, -0.0612,  0.8371,  ..., -0.3081, -0.5633, -0.1231]]), conditions={0: tensor([ 0.0000,  0.0000,  0.8251, -0.9969,  0.0457, -0.0639, -0.0029, -0.0399,\n",
       "          0.0621, -0.0921,  0.0930,  0.4230,  0.1155, -1.4425,  0.4709, -0.4550,\n",
       "          1.1228,  1.3071, -0.7625, -0.2475,  1.4452, -0.1059, -0.4803,  0.0466,\n",
       "         -0.8114,  0.0888, -0.3455, -0.1734,  0.2040, -0.1554,  0.3841, -0.6268,\n",
       "         -0.5877, -0.5578, -0.1123])}),\n",
       " torch.Size([64, 35]))"
      ]
     },
     "execution_count": 24,
     "metadata": {},
     "output_type": "execute_result"
    }
   ],
   "source": [
    "dataset[0], dataset[0].trajectories.shape"
   ]
  },
  {
   "cell_type": "code",
   "execution_count": 26,
   "metadata": {},
   "outputs": [
    {
     "name": "stdout",
     "output_type": "stream",
     "text": [
      "Motion 0 saved as motion1.npy\n"
     ]
    }
   ],
   "source": [
    "import numpy as np\n",
    "\n",
    "\n",
    "def save_motions(sample, output_dir, filename=\"motion.npy\"):\n",
    "    filepath = os.path.join(output_dir, filename)\n",
    "    pos_data = sample.trajectories.squeeze(0).cpu().numpy()\n",
    "    np.save(filepath, pos_data)\n",
    "    print(f\"Motion {i} saved as {filename}\")\n",
    "\n",
    "\n",
    "save_motions(sample, f\"{savepath}/sampled_motions\", filename=\"motion1.npy\")"
   ]
  },
  {
   "cell_type": "code",
   "execution_count": null,
   "metadata": {},
   "outputs": [],
   "source": []
  }
 ],
 "metadata": {
  "kernelspec": {
   "display_name": "fyp",
   "language": "python",
   "name": "python3"
  },
  "language_info": {
   "codemirror_mode": {
    "name": "ipython",
    "version": 3
   },
   "file_extension": ".py",
   "mimetype": "text/x-python",
   "name": "python",
   "nbconvert_exporter": "python",
   "pygments_lexer": "ipython3",
   "version": "3.8.18"
  }
 },
 "nbformat": 4,
 "nbformat_minor": 2
}
