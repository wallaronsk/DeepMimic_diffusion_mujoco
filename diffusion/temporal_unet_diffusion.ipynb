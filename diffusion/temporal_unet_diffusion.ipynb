{
 "cells": [
  {
   "cell_type": "markdown",
   "metadata": {},
   "source": [
    "### Setup env\n",
    "This is notebook specific setup, my module path is different on my vm so this is a workaround"
   ]
  },
  {
   "cell_type": "code",
   "execution_count": 3,
   "metadata": {},
   "outputs": [],
   "source": [
    "import sys\n",
    "import os\n",
    "\n",
    "path = os.path.abspath(os.path.join('..'))\n",
    "if path not in sys.path:\n",
    "    sys.path.append(path)"
   ]
  },
  {
   "cell_type": "markdown",
   "metadata": {},
   "source": [
    "### Load Dataset\n",
    "You can change the type of motion by changing the filepath\n",
    "Dataset right now just repeats the same motion 100 times"
   ]
  },
  {
   "cell_type": "code",
   "execution_count": 18,
   "metadata": {},
   "outputs": [
    {
     "name": "stdout",
     "output_type": "stream",
     "text": [
      "Tmp angle [0.0, 0.0, 0.78376018, 0.9808313384999998, 0.1189326497, 0.15323081459999996, -0.018580306399999996, -0.05478197593616119, -0.026172051539739314, 0.014375909756315875, -0.19993647449072474, 0.3285354293520373, 0.1906637990847742, 0.36137716110543394, -0.7436360474914797, 1.8424103204285334, 0.8445403907, 0.09932125112503785, 0.30724154600497, 0.35361953315845085, 0.4740349157, 0.223112496519707, 0.10180857617828531, -0.14935436908675828, -0.1758576301, 0.26386327995533265, 0.025550573607299266, 0.26352809503472835, -0.3431028336232349, -0.6613714314360651, 0.07508298155110528, -0.9549970431, -0.118875289148878, -0.5143185800783003, -0.16694505887179326] 35\n"
     ]
    },
    {
     "data": {
      "text/plain": [
       "(100,\n",
       " Batch(trajectories=tensor([[ 0.0000,  0.0000,  0.7838,  ..., -0.1189, -0.5143, -0.1669],\n",
       "         [ 0.0029, -0.0054,  0.7806,  ..., -0.1315, -0.5176, -0.1904],\n",
       "         [ 0.0060, -0.0111,  0.7779,  ..., -0.1396, -0.5187, -0.2048],\n",
       "         ...,\n",
       "         [ 0.1405, -0.0450,  0.7955,  ..., -0.2444, -0.5266, -0.2034],\n",
       "         [ 0.1402, -0.0486,  0.7909,  ..., -0.2500, -0.5194, -0.2263],\n",
       "         [ 0.1402, -0.0525,  0.7857,  ..., -0.2550, -0.5115, -0.2476]]), conditions={0: tensor([ 0.0000,  0.0000,  0.7838,  0.9808,  0.1189,  0.1532, -0.0186, -0.0548,\n",
       "         -0.0262,  0.0144, -0.1999,  0.3285,  0.1907,  0.3614, -0.7436,  1.8424,\n",
       "          0.8445,  0.0993,  0.3072,  0.3536,  0.4740,  0.2231,  0.1018, -0.1494,\n",
       "         -0.1759,  0.2639,  0.0256,  0.2635, -0.3431, -0.6614,  0.0751, -0.9550,\n",
       "         -0.1189, -0.5143, -0.1669])}),\n",
       " torch.Size([152, 35]))"
      ]
     },
     "execution_count": 18,
     "metadata": {},
     "output_type": "execute_result"
    }
   ],
   "source": [
    "from diffusion.data_loaders.motion_dataset import MotionDataset\n",
    "dataset = MotionDataset(\"data/motions/humanoid3d_dance_b.txt\")\n",
    "len(dataset), dataset[0], dataset[0].trajectories.shape"
   ]
  },
  {
   "cell_type": "markdown",
   "metadata": {},
   "source": [
    "### Setup Model\n",
    "Configure your experiment name and savepaths here, they will all be stored under the logs folder later on"
   ]
  },
  {
   "cell_type": "code",
   "execution_count": 5,
   "metadata": {},
   "outputs": [],
   "source": [
    "import os\n",
    "import torch\n",
    "from diffusion.diffuser.utils import Trainer as dTrainer, Config as dConfig\n",
    "\n",
    "exp_name = \"test-constrained-sampling-holding-a-box-dance-a\"\n",
    "savepath = f'/home/kenji/Fyp/DeepMimic_mujoco/diffusion/logs/{exp_name}'\n",
    "device = 'cuda:0' if torch.cuda.is_available() else 'cpu'\n",
    "\n",
    "if not os.path.exists(savepath):\n",
    "    os.makedirs(savepath)\n",
    "    os.makedirs(os.path.join(savepath, 'sampled_motions'))"
   ]
  },
  {
   "cell_type": "code",
   "execution_count": 6,
   "metadata": {},
   "outputs": [
    {
     "name": "stdout",
     "output_type": "stream",
     "text": [
      "\n",
      "[utils/config ] Config: <class 'diffusion.diffuser.models.temporal.TemporalUnet'>\n",
      "    cond_dim: 35\n",
      "    horizon: 96\n",
      "    transition_dim: 35\n",
      "\n",
      "[ utils/config ] Saved config to: /home/kenji/Fyp/DeepMimic_mujoco/diffusion/logs/test-constrained-sampling-holding-a-box-dance-a/model_config.pkl\n",
      "\n",
      "[ models/temporal ] Channel dimensions: [(35, 32), (32, 64), (64, 128), (128, 256)]\n",
      "[(35, 32), (32, 64), (64, 128), (128, 256)]\n"
     ]
    }
   ],
   "source": [
    "from diffusion.diffuser.models.temporal import TemporalUnet \n",
    "\n",
    "horizon = dataset[0].trajectories.shape[0]\n",
    "transition_dim = dataset[0].trajectories.shape[1]\n",
    "\n",
    "model_config = dConfig(\n",
    "    TemporalUnet,\n",
    "    savepath=(savepath, 'model_config.pkl'),\n",
    "    horizon=horizon,\n",
    "    transition_dim=transition_dim,\n",
    "    cond_dim=transition_dim,\n",
    "    device=device,\n",
    ")\n",
    "model = model_config()"
   ]
  },
  {
   "cell_type": "code",
   "execution_count": 7,
   "metadata": {},
   "outputs": [
    {
     "name": "stdout",
     "output_type": "stream",
     "text": [
      "\n",
      "[utils/config ] Config: <class 'diffusion.diffuser.models.diffusion.GaussianDiffusion'>\n",
      "    action_weight: 5\n",
      "    clip_denoised: False\n",
      "    horizon: 96\n",
      "    loss_discount: 1\n",
      "    loss_type: l2\n",
      "    loss_weights: None\n",
      "    n_timesteps: 100\n",
      "    predict_epsilon: False\n",
      "    transition_dim: 35\n",
      "\n",
      "[ utils/config ] Saved config to: /home/kenji/Fyp/DeepMimic_mujoco/diffusion/logs/test-constrained-sampling-holding-a-box-dance-a/diffusion_config.pkl\n",
      "\n"
     ]
    }
   ],
   "source": [
    "from diffusion.diffuser.models.diffusion import GaussianDiffusion\n",
    "\n",
    "# model params, I am only using the very basic ones, some params are for conditioning\n",
    "n_timesteps = 100\n",
    "loss_type = 'l2'\n",
    "clip_denoised = False\n",
    "predict_epsilon = False\n",
    "action_weight = 5\n",
    "loss_weights = None\n",
    "loss_discount = 1\n",
    "\n",
    "diffusion_config = dConfig(\n",
    "    GaussianDiffusion,\n",
    "    savepath=(savepath, 'diffusion_config.pkl'),\n",
    "    horizon=horizon,\n",
    "    transition_dim=transition_dim,\n",
    "    n_timesteps=n_timesteps,\n",
    "    loss_type=loss_type,\n",
    "    clip_denoised=clip_denoised,\n",
    "    predict_epsilon=predict_epsilon,\n",
    "    # loss weighting\n",
    "    action_weight=action_weight,\n",
    "    loss_weights=loss_weights,\n",
    "    loss_discount=loss_discount,\n",
    "    device=device,\n",
    ")\n",
    "\n",
    "diffusion = diffusion_config(model)"
   ]
  },
  {
   "cell_type": "markdown",
   "metadata": {},
   "source": [
    "### Setup Training"
   ]
  },
  {
   "cell_type": "code",
   "execution_count": 8,
   "metadata": {},
   "outputs": [
    {
     "name": "stdout",
     "output_type": "stream",
     "text": [
      "\n",
      "[utils/config ] Config: <class 'diffusion.diffuser.utils.training.Trainer'>\n",
      "    bucket: None\n",
      "    ema_decay: 0.995\n",
      "    gradient_accumulate_every: 2\n",
      "    label_freq: 20000\n",
      "    n_reference: 8\n",
      "    results_folder: /home/kenji/Fyp/DeepMimic_mujoco/diffusion/logs/test-constrained-sampling-holding-a-box-dance-a\n",
      "    sample_freq: 2000\n",
      "    save_freq: 2000\n",
      "    save_parallel: False\n",
      "    train_batch_size: 32\n",
      "    train_lr: 0.0002\n",
      "\n",
      "[ utils/config ] Saved config to: /home/kenji/Fyp/DeepMimic_mujoco/diffusion/logs/test-constrained-sampling-holding-a-box-dance-a/trainer_config.pkl\n",
      "\n"
     ]
    }
   ],
   "source": [
    "learning_rate = 2e-4\n",
    "gradient_accumulate_every = 2\n",
    "ema_decay = 0.995\n",
    "sample_freq = 2000\n",
    "save_freq = 2000\n",
    "n_train_steps = 1e5\n",
    "n_saves = 5\n",
    "save_parallel = False\n",
    "bucket = None\n",
    "n_reference = 8\n",
    "train_batch_size = 32\n",
    "\n",
    "trainer_config = dConfig(\n",
    "    dTrainer,\n",
    "    savepath=(savepath, 'trainer_config.pkl'),\n",
    "    train_batch_size=train_batch_size,\n",
    "    train_lr=learning_rate,\n",
    "    gradient_accumulate_every=gradient_accumulate_every,\n",
    "    ema_decay=ema_decay,\n",
    "    sample_freq=sample_freq,\n",
    "    save_freq=save_freq,\n",
    "    label_freq=int(n_train_steps // n_saves),\n",
    "    save_parallel=save_parallel,\n",
    "    results_folder=savepath,\n",
    "    bucket=bucket,\n",
    "    n_reference=n_reference,\n",
    ")\n",
    "\n",
    "trainer = trainer_config(diffusion, dataset, renderer=None)"
   ]
  },
  {
   "cell_type": "markdown",
   "metadata": {},
   "source": [
    "### Test if model and training loop works"
   ]
  },
  {
   "cell_type": "code",
   "execution_count": 9,
   "metadata": {},
   "outputs": [
    {
     "name": "stdout",
     "output_type": "stream",
     "text": [
      "x.shape torch.Size([1, 96, 35])\n",
      "x.shape torch.Size([1, 35, 96])\n",
      "x.shape torch.Size([1, 32, 96])\n",
      "1\n",
      "xfinal.shape torch.Size([1, 32, 48])\n",
      "x.shape torch.Size([1, 64, 48])\n",
      "2\n",
      "xfinal.shape torch.Size([1, 64, 24])\n",
      "x.shape torch.Size([1, 128, 24])\n",
      "3\n",
      "xfinal.shape torch.Size([1, 128, 12])\n",
      "x.shape torch.Size([1, 256, 12])\n",
      "4\n",
      "xfinal.shape torch.Size([1, 256, 12])\n",
      "xt1.shape torch.Size([1, 256, 12])\n",
      "xt2.shape torch.Size([1, 256, 12])\n",
      "xt3.shape torch.Size([1, 256, 12])\n",
      "pop.shape torch.Size([1, 256, 12])\n",
      "pop.shape torch.Size([1, 128, 24])\n",
      "pop.shape torch.Size([1, 64, 48])\n"
     ]
    },
    {
     "data": {
      "text/plain": [
       "(tensor([[[ 0.4984, -0.5606, -0.3092,  ..., -0.3186,  0.1175,  0.5711],\n",
       "          [ 0.3266,  0.0279, -0.1262,  ..., -0.4264, -0.1249,  0.2344],\n",
       "          [ 0.5482, -0.0678, -0.4978,  ...,  0.3667,  0.3144,  0.6020],\n",
       "          ...,\n",
       "          [-0.2615,  0.9959, -0.1522,  ..., -0.2135,  0.9933,  0.1541],\n",
       "          [ 0.7626,  0.2618, -0.3036,  ..., -0.2087,  0.2411,  0.1918],\n",
       "          [ 0.2449,  0.2712, -0.4646,  ..., -0.0249,  0.4258,  0.3678]]],\n",
       "        device='cuda:0', grad_fn=<PermuteBackward0>),\n",
       " torch.Size([1, 96, 35]))"
      ]
     },
     "execution_count": 9,
     "metadata": {},
     "output_type": "execute_result"
    }
   ],
   "source": [
    "import torch\n",
    "from diffuser.utils import batchify\n",
    "\n",
    "tunet = model\n",
    "tunet.to(device)\n",
    "test_data = dataset[0]\n",
    "batch = batchify(test_data)\n",
    "t = torch.randint(0, 1000, (1,), device=device).long().to(device)\n",
    "res = tunet(batch.trajectories, cond=batch.conditions, time=t, verbose=True)\n",
    "res, res.shape"
   ]
  },
  {
   "cell_type": "code",
   "execution_count": 10,
   "metadata": {},
   "outputs": [
    {
     "name": "stdout",
     "output_type": "stream",
     "text": [
      "[ utils/arrays ] Total parameters: 3.96 M\n",
      "         downs.3.0.blocks.1.block.0.weight: 327.68 k | Conv1d(256, 256, kernel_size=(5,), stride=(1,), padding=(2,))\n",
      "         downs.3.1.blocks.0.block.0.weight: 327.68 k | Conv1d(256, 256, kernel_size=(5,), stride=(1,), padding=(2,))\n",
      "         downs.3.1.blocks.1.block.0.weight: 327.68 k | Conv1d(256, 256, kernel_size=(5,), stride=(1,), padding=(2,))\n",
      "         ups.0.0.blocks.0.block.0.weight: 327.68 k | Conv1d(512, 128, kernel_size=(5,), stride=(1,), padding=(2,))\n",
      "         mid_block1.blocks.0.block.0.weight: 327.68 k | Conv1d(256, 256, kernel_size=(5,), stride=(1,), padding=(2,))\n",
      "         mid_block1.blocks.1.block.0.weight: 327.68 k | Conv1d(256, 256, kernel_size=(5,), stride=(1,), padding=(2,))\n",
      "         mid_block2.blocks.0.block.0.weight: 327.68 k | Conv1d(256, 256, kernel_size=(5,), stride=(1,), padding=(2,))\n",
      "         mid_block2.blocks.1.block.0.weight: 327.68 k | Conv1d(256, 256, kernel_size=(5,), stride=(1,), padding=(2,))\n",
      "         downs.3.0.blocks.0.block.0.weight: 163.84 k | Conv1d(128, 256, kernel_size=(5,), stride=(1,), padding=(2,))\n",
      "         downs.2.0.blocks.1.block.0.weight: 81.92 k | Conv1d(128, 128, kernel_size=(5,), stride=(1,), padding=(2,))\n",
      "         ... and 186 others accounting for 1.09 M parameters\n",
      "Testing forward... ✓\n"
     ]
    }
   ],
   "source": [
    "from diffuser.utils import report_parameters, batchify\n",
    "\n",
    "report_parameters(model)\n",
    "\n",
    "print('Testing forward...', end=' ', flush=True)\n",
    "x = dataset[0]\n",
    "batch = batchify(x)\n",
    "loss, _ = diffusion.loss(batch.trajectories, {})\n",
    "loss.backward()\n",
    "print('✓')"
   ]
  },
  {
   "cell_type": "markdown",
   "metadata": {},
   "source": [
    "### Train Model\n",
    "It took me 80s to run 1 epoch and results were pretty good from just 1 epoch"
   ]
  },
  {
   "cell_type": "code",
   "execution_count": 11,
   "metadata": {},
   "outputs": [
    {
     "name": "stdout",
     "output_type": "stream",
     "text": [
      "100\n",
      "Epoch 0 / 1 | /home/kenji/Fyp/DeepMimic_mujoco/diffusion/logs/test-constrained-sampling-holding-a-box-dance-a\n",
      "[ utils/training ] Saved model to /home/kenji/Fyp/DeepMimic_mujoco/diffusion/logs/test-constrained-sampling-holding-a-box-dance-a/state_0.pt\n",
      "0:   0.3678 | a0_loss:   0.1674 | t:   0.4784\n",
      "100:   0.2190 | a0_loss:   0.1309 | t:   8.5328\n",
      "200:   0.2110 | a0_loss:   0.1288 | t:   8.4568\n",
      "300:   0.2086 | a0_loss:   0.1282 | t:   8.3370\n",
      "400:   0.2078 | a0_loss:   0.1280 | t:   8.6017\n",
      "500:   0.2075 | a0_loss:   0.1279 | t:   8.4035\n",
      "600:   0.2072 | a0_loss:   0.1278 | t:   8.6204\n",
      "700:   0.2071 | a0_loss:   0.1278 | t:   8.3511\n",
      "800:   0.2070 | a0_loss:   0.1278 | t:   8.3714\n",
      "900:   0.2069 | a0_loss:   0.1277 | t:   8.2623\n",
      "[ utils/training ] Saved model to /home/kenji/Fyp/DeepMimic_mujoco/diffusion/logs/test-constrained-sampling-holding-a-box-dance-a/state_1.pt\n"
     ]
    }
   ],
   "source": [
    "n_steps_per_epoch = 1000\n",
    "n_epochs = int(n_train_steps // n_steps_per_epoch)\n",
    "print(n_epochs)\n",
    "n_epochs = 1\n",
    "\n",
    "for i in range(n_epochs):\n",
    "    print(f'Epoch {i} / {n_epochs} | {savepath}')\n",
    "    trainer.train(n_train_steps=n_steps_per_epoch)\n",
    "\n",
    "trainer.save(n_epochs)"
   ]
  },
  {
   "cell_type": "markdown",
   "metadata": {},
   "source": [
    "### (Optionally) load a checkpoint"
   ]
  },
  {
   "cell_type": "code",
   "execution_count": 12,
   "metadata": {},
   "outputs": [],
   "source": [
    "# from diffusion.diffuser.utils import load_diffusion\n",
    "# diffusion_experiment = load_diffusion(\n",
    "#     \"/home/kenji/Fyp/DeepMimic_mujoco/diffusion/logs/diffuser\", dataset=dataset, epoch=1)\n",
    "\n",
    "# renderer = diffusion_experiment.renderer\n",
    "# model = diffusion_experiment.trainer.ema_model\n",
    "\n",
    "# Optionally load a checkpoint\n",
    "trainer.load(1)\n",
    "model = trainer.ema_model"
   ]
  },
  {
   "cell_type": "markdown",
   "metadata": {},
   "source": [
    "### Sample from model"
   ]
  },
  {
   "cell_type": "code",
   "execution_count": 13,
   "metadata": {},
   "outputs": [
    {
     "name": "stdout",
     "output_type": "stream",
     "text": [
      "\n",
      "\u001b[F                                                                                                    \n",
      "\u001b[F1 / 100 [                                                            ]   1% | 4.5 Hz\n",
      "t : 99 | vmax : 0.0 | vmin : 0.0\n",
      "\u001b[F\u001b[F                                                                                                    \n",
      "                                                                                                    \n",
      "\u001b[F\u001b[F2 / 100 [#                                                           ]   2% | 8.5 Hz\n",
      "t : 98 | vmax : 0.0 | vmin : 0.0\n",
      "\u001b[F\u001b[F                                                                                                    \n",
      "                                                                                                    \n",
      "\u001b[F\u001b[F3 / 100 [#                                                           ]   3% | 12.3 Hz\n",
      "t : 97 | vmax : 0.0 | vmin : 0.0\n",
      "\u001b[F\u001b[F                                                                                                    \n",
      "                                                                                                    \n",
      "\u001b[F\u001b[F4 / 100 [##                                                          ]   4% | 15.7 Hz\n",
      "t : 96 | vmax : 0.0 | vmin : 0.0\n",
      "\u001b[F\u001b[F                                                                                                    \n",
      "                                                                                                    \n",
      "\u001b[F\u001b[F5 / 100 [###                                                         ]   5% | 19.0 Hz\n",
      "t : 95 | vmax : 0.0 | vmin : 0.0\n",
      "\u001b[F\u001b[F                                                                                                    \n",
      "                                                                                                    \n",
      "\u001b[F\u001b[F6 / 100 [###                                                         ]   6% | 22.2 Hz\n",
      "t : 94 | vmax : 0.0 | vmin : 0.0\n",
      "\u001b[F\u001b[F                                                                                                    \n",
      "                                                                                                    \n",
      "\u001b[F\u001b[F7 / 100 [####                                                        ]   7% | 24.2 Hz\n",
      "t : 93 | vmax : 0.0 | vmin : 0.0\n",
      "\u001b[F\u001b[F                                                                                                    \n",
      "                                                                                                    \n",
      "\u001b[F\u001b[F8 / 100 [####                                                        ]   8% | 26.9 Hz\n",
      "t : 92 | vmax : 0.0 | vmin : 0.0\n",
      "\u001b[F\u001b[F                                                                                                    \n",
      "                                                                                                    \n",
      "\u001b[F\u001b[F9 / 100 [#####                                                       ]   9% | 29.4 Hz\n",
      "t : 91 | vmax : 0.0 | vmin : 0.0\n",
      "\u001b[F\u001b[F                                                                                                    \n",
      "                                                                                                    \n",
      "\u001b[F\u001b[F10 / 100 [######                                                      ]  10% | 31.6 Hz\n",
      "t : 90 | vmax : 0.0 | vmin : 0.0\n",
      "\u001b[F\u001b[F                                                                                                    \n",
      "                                                                                                    \n",
      "\u001b[F\u001b[F11 / 100 [######                                                      ]  11% | 33.5 Hz\n",
      "t : 89 | vmax : 0.0 | vmin : 0.0\n",
      "\u001b[F\u001b[F                                                                                                    \n",
      "                                                                                                    \n",
      "\u001b[F\u001b[F12 / 100 [#######                                                     ]  12% | 35.6 Hz\n",
      "t : 88 | vmax : 0.0 | vmin : 0.0\n",
      "\u001b[F\u001b[F                                                                                                    \n",
      "                                                                                                    \n",
      "\u001b[F\u001b[F13 / 100 [#######                                                     ]  13% | 37.4 Hz\n",
      "t : 87 | vmax : 0.0 | vmin : 0.0\n",
      "\u001b[F\u001b[F                                                                                                    \n",
      "                                                                                                    \n",
      "\u001b[F\u001b[F14 / 100 [########                                                    ]  14% | 39.3 Hz\n",
      "t : 86 | vmax : 0.0 | vmin : 0.0\n",
      "\u001b[F\u001b[F                                                                                                    \n",
      "                                                                                                    \n",
      "\u001b[F\u001b[F15 / 100 [#########                                                   ]  15% | 40.7 Hz\n",
      "t : 85 | vmax : 0.0 | vmin : 0.0\n",
      "\u001b[F\u001b[F                                                                                                    \n",
      "                                                                                                    \n",
      "\u001b[F\u001b[F16 / 100 [#########                                                   ]  16% | 41.5 Hz\n",
      "t : 84 | vmax : 0.0 | vmin : 0.0\n",
      "\u001b[F\u001b[F                                                                                                    \n",
      "                                                                                                    \n",
      "\u001b[F\u001b[F17 / 100 [##########                                                  ]  17% | 43.1 Hz\n",
      "t : 83 | vmax : 0.0 | vmin : 0.0\n",
      "\u001b[F\u001b[F                                                                                                    \n",
      "                                                                                                    \n",
      "\u001b[F\u001b[F18 / 100 [##########                                                  ]  18% | 44.5 Hz\n",
      "t : 82 | vmax : 0.0 | vmin : 0.0\n",
      "\u001b[F\u001b[F                                                                                                    \n",
      "                                                                                                    \n",
      "\u001b[F\u001b[F19 / 100 [###########                                                 ]  19% | 45.8 Hz\n",
      "t : 81 | vmax : 0.0 | vmin : 0.0\n",
      "\u001b[F\u001b[F                                                                                                    \n",
      "                                                                                                    \n",
      "\u001b[F\u001b[F20 / 100 [############                                                ]  20% | 46.7 Hz\n",
      "t : 80 | vmax : 0.0 | vmin : 0.0\n",
      "\u001b[F\u001b[F                                                                                                    \n",
      "                                                                                                    \n",
      "\u001b[F\u001b[F21 / 100 [############                                                ]  21% | 47.9 Hz\n",
      "t : 79 | vmax : 0.0 | vmin : 0.0\n",
      "\u001b[F\u001b[F                                                                                                    \n",
      "                                                                                                    \n",
      "\u001b[F\u001b[F22 / 100 [#############                                               ]  22% | 49.1 Hz\n",
      "t : 78 | vmax : 0.0 | vmin : 0.0\n",
      "\u001b[F\u001b[F                                                                                                    \n",
      "                                                                                                    \n",
      "\u001b[F\u001b[F23 / 100 [#############                                               ]  23% | 50.3 Hz\n",
      "t : 77 | vmax : 0.0 | vmin : 0.0\n",
      "\u001b[F\u001b[F                                                                                                    \n",
      "                                                                                                    \n",
      "\u001b[F\u001b[F24 / 100 [##############                                              ]  24% | 51.2 Hz\n",
      "t : 76 | vmax : 0.0 | vmin : 0.0\n",
      "\u001b[F\u001b[F                                                                                                    \n",
      "                                                                                                    \n",
      "\u001b[F\u001b[F25 / 100 [###############                                             ]  25% | 52.3 Hz\n",
      "t : 75 | vmax : 0.0 | vmin : 0.0\n",
      "\u001b[F\u001b[F                                                                                                    \n",
      "                                                                                                    \n",
      "\u001b[F\u001b[F26 / 100 [###############                                             ]  26% | 53.4 Hz\n",
      "t : 74 | vmax : 0.0 | vmin : 0.0\n",
      "\u001b[F\u001b[F                                                                                                    \n",
      "                                                                                                    \n",
      "\u001b[F\u001b[F27 / 100 [################                                            ]  27% | 54.3 Hz\n",
      "t : 73 | vmax : 0.0 | vmin : 0.0\n",
      "\u001b[F\u001b[F                                                                                                    \n",
      "                                                                                                    \n",
      "\u001b[F\u001b[F28 / 100 [################                                            ]  28% | 55.4 Hz\n",
      "t : 72 | vmax : 0.0 | vmin : 0.0\n",
      "\u001b[F\u001b[F                                                                                                    \n",
      "                                                                                                    \n",
      "\u001b[F\u001b[F29 / 100 [#################                                           ]  28% | 56.1 Hz\n",
      "t : 71 | vmax : 0.0 | vmin : 0.0\n",
      "\u001b[F\u001b[F                                                                                                    \n",
      "                                                                                                    \n",
      "\u001b[F\u001b[F30 / 100 [##################                                          ]  30% | 57.1 Hz\n",
      "t : 70 | vmax : 0.0 | vmin : 0.0\n",
      "\u001b[F\u001b[F                                                                                                    \n",
      "                                                                                                    \n",
      "\u001b[F\u001b[F31 / 100 [##################                                          ]  31% | 57.9 Hz\n",
      "t : 69 | vmax : 0.0 | vmin : 0.0\n",
      "\u001b[F\u001b[F                                                                                                    \n",
      "                                                                                                    \n",
      "\u001b[F\u001b[F32 / 100 [###################                                         ]  32% | 58.8 Hz\n",
      "t : 68 | vmax : 0.0 | vmin : 0.0\n",
      "\u001b[F\u001b[F                                                                                                    \n",
      "                                                                                                    \n",
      "\u001b[F\u001b[F33 / 100 [###################                                         ]  33% | 59.5 Hz\n",
      "t : 67 | vmax : 0.0 | vmin : 0.0\n",
      "\u001b[F\u001b[F                                                                                                    \n",
      "                                                                                                    \n",
      "\u001b[F\u001b[F34 / 100 [####################                                        ]  34% | 59.1 Hz\n",
      "t : 66 | vmax : 0.0 | vmin : 0.0\n",
      "\u001b[F\u001b[F                                                                                                    \n",
      "                                                                                                    \n",
      "\u001b[F\u001b[F35 / 100 [#####################                                       ]  35% | 59.9 Hz\n",
      "t : 65 | vmax : 0.0 | vmin : 0.0\n",
      "\u001b[F\u001b[F                                                                                                    \n",
      "                                                                                                    \n",
      "\u001b[F\u001b[F36 / 100 [#####################                                       ]  36% | 60.6 Hz\n",
      "t : 64 | vmax : 0.0 | vmin : 0.0\n",
      "\u001b[F\u001b[F                                                                                                    \n",
      "                                                                                                    \n",
      "\u001b[F\u001b[F37 / 100 [######################                                      ]  37% | 61.4 Hz\n",
      "t : 63 | vmax : 0.0 | vmin : 0.0\n",
      "\u001b[F\u001b[F                                                                                                    \n",
      "                                                                                                    \n",
      "\u001b[F\u001b[F38 / 100 [######################                                      ]  38% | 62.2 Hz\n",
      "t : 62 | vmax : 0.0 | vmin : 0.0\n",
      "\u001b[F\u001b[F                                                                                                    \n",
      "                                                                                                    \n",
      "\u001b[F\u001b[F39 / 100 [#######################                                     ]  39% | 63.0 Hz\n",
      "t : 61 | vmax : 0.0 | vmin : 0.0\n",
      "\u001b[F\u001b[F                                                                                                    \n",
      "                                                                                                    \n",
      "\u001b[F\u001b[F40 / 100 [########################                                    ]  40% | 63.7 Hz\n",
      "t : 60 | vmax : 0.0 | vmin : 0.0\n",
      "\u001b[F\u001b[F                                                                                                    \n",
      "                                                                                                    \n",
      "\u001b[F\u001b[F41 / 100 [########################                                    ]  41% | 64.3 Hz\n",
      "t : 59 | vmax : 0.0 | vmin : 0.0\n",
      "\u001b[F\u001b[F                                                                                                    \n",
      "                                                                                                    \n",
      "\u001b[F\u001b[F42 / 100 [#########################                                   ]  42% | 65.0 Hz\n",
      "t : 58 | vmax : 0.0 | vmin : 0.0\n",
      "\u001b[F\u001b[F                                                                                                    \n",
      "                                                                                                    \n",
      "\u001b[F\u001b[F43 / 100 [#########################                                   ]  43% | 65.5 Hz\n",
      "t : 57 | vmax : 0.0 | vmin : 0.0\n",
      "\u001b[F\u001b[F                                                                                                    \n",
      "                                                                                                    \n",
      "\u001b[F\u001b[F44 / 100 [##########################                                  ]  44% | 66.2 Hz\n",
      "t : 56 | vmax : 0.0 | vmin : 0.0\n",
      "\u001b[F\u001b[F                                                                                                    \n",
      "                                                                                                    \n",
      "\u001b[F\u001b[F45 / 100 [###########################                                 ]  45% | 66.8 Hz\n",
      "t : 55 | vmax : 0.0 | vmin : 0.0\n",
      "\u001b[F\u001b[F                                                                                                    \n",
      "                                                                                                    \n",
      "\u001b[F\u001b[F46 / 100 [###########################                                 ]  46% | 67.4 Hz\n",
      "t : 54 | vmax : 0.0 | vmin : 0.0\n",
      "\u001b[F\u001b[F                                                                                                    \n",
      "                                                                                                    \n",
      "\u001b[F\u001b[F47 / 100 [############################                                ]  47% | 68.0 Hz\n",
      "t : 53 | vmax : 0.0 | vmin : 0.0\n",
      "\u001b[F\u001b[F                                                                                                    \n",
      "                                                                                                    \n",
      "\u001b[F\u001b[F48 / 100 [############################                                ]  48% | 68.4 Hz\n",
      "t : 52 | vmax : 0.0 | vmin : 0.0\n",
      "\u001b[F\u001b[F                                                                                                    \n",
      "                                                                                                    \n",
      "\u001b[F\u001b[F49 / 100 [#############################                               ]  49% | 68.9 Hz\n",
      "t : 51 | vmax : 0.0 | vmin : 0.0\n",
      "\u001b[F\u001b[F                                                                                                    \n",
      "                                                                                                    \n",
      "\u001b[F\u001b[F50 / 100 [##############################                              ]  50% | 69.3 Hz\n",
      "t : 50 | vmax : 0.0 | vmin : 0.0\n",
      "\u001b[F\u001b[F                                                                                                    \n",
      "                                                                                                    \n",
      "\u001b[F\u001b[F51 / 100 [##############################                              ]  51% | 69.8 Hz\n",
      "t : 49 | vmax : 0.0 | vmin : 0.0\n",
      "\u001b[F\u001b[F                                                                                                    \n",
      "                                                                                                    \n",
      "\u001b[F\u001b[F52 / 100 [###############################                             ]  52% | 70.2 Hz\n",
      "t : 48 | vmax : 0.0 | vmin : 0.0\n",
      "\u001b[F\u001b[F                                                                                                    \n",
      "                                                                                                    \n",
      "\u001b[F\u001b[F53 / 100 [###############################                             ]  53% | 70.8 Hz\n",
      "t : 47 | vmax : 0.0 | vmin : 0.0\n",
      "\u001b[F\u001b[F                                                                                                    \n",
      "                                                                                                    \n",
      "\u001b[F\u001b[F54 / 100 [################################                            ]  54% | 70.9 Hz\n",
      "t : 46 | vmax : 0.0 | vmin : 0.0\n",
      "\u001b[F\u001b[F                                                                                                    \n",
      "                                                                                                    \n",
      "\u001b[F\u001b[F55 / 100 [#################################                           ]  55% | 70.7 Hz\n",
      "t : 45 | vmax : 0.0 | vmin : 0.0\n",
      "\u001b[F\u001b[F                                                                                                    \n",
      "                                                                                                    \n",
      "\u001b[F\u001b[F56 / 100 [#################################                           ]  56% | 71.2 Hz\n",
      "t : 44 | vmax : 0.0 | vmin : 0.0\n",
      "\u001b[F\u001b[F                                                                                                    \n",
      "                                                                                                    \n",
      "\u001b[F\u001b[F57 / 100 [##################################                          ]  56% | 71.6 Hz\n",
      "t : 43 | vmax : 0.0 | vmin : 0.0\n",
      "\u001b[F\u001b[F                                                                                                    \n",
      "                                                                                                    \n",
      "\u001b[F\u001b[F58 / 100 [##################################                          ]  57% | 72.1 Hz\n",
      "t : 42 | vmax : 0.0 | vmin : 0.0\n",
      "\u001b[F\u001b[F                                                                                                    \n",
      "                                                                                                    \n",
      "\u001b[F\u001b[F59 / 100 [###################################                         ]  59% | 72.2 Hz\n",
      "t : 41 | vmax : 0.0 | vmin : 0.0\n",
      "\u001b[F\u001b[F                                                                                                    \n",
      "                                                                                                    \n",
      "\u001b[F\u001b[F60 / 100 [####################################                        ]  60% | 72.5 Hz\n",
      "t : 40 | vmax : 0.0 | vmin : 0.0\n",
      "\u001b[F\u001b[F                                                                                                    \n",
      "                                                                                                    \n",
      "\u001b[F\u001b[F61 / 100 [####################################                        ]  61% | 72.5 Hz\n",
      "t : 39 | vmax : 0.0 | vmin : 0.0\n",
      "\u001b[F\u001b[F                                                                                                    \n",
      "                                                                                                    \n",
      "\u001b[F\u001b[F62 / 100 [#####################################                       ]  62% | 72.9 Hz\n",
      "t : 38 | vmax : 0.0 | vmin : 0.0\n",
      "\u001b[F\u001b[F                                                                                                    \n",
      "                                                                                                    \n",
      "\u001b[F\u001b[F63 / 100 [#####################################                       ]  63% | 73.1 Hz\n",
      "t : 37 | vmax : 0.0 | vmin : 0.0\n",
      "\u001b[F\u001b[F                                                                                                    \n",
      "                                                                                                    \n",
      "\u001b[F\u001b[F64 / 100 [######################################                      ]  64% | 73.6 Hz\n",
      "t : 36 | vmax : 0.0 | vmin : 0.0\n",
      "\u001b[F\u001b[F                                                                                                    \n",
      "                                                                                                    \n",
      "\u001b[F\u001b[F65 / 100 [#######################################                     ]  65% | 74.0 Hz\n",
      "t : 35 | vmax : 0.0 | vmin : 0.0\n",
      "\u001b[F\u001b[F                                                                                                    \n",
      "                                                                                                    \n",
      "\u001b[F\u001b[F66 / 100 [#######################################                     ]  66% | 74.4 Hz\n",
      "t : 34 | vmax : 0.0 | vmin : 0.0\n",
      "\u001b[F\u001b[F                                                                                                    \n",
      "                                                                                                    \n",
      "\u001b[F\u001b[F67 / 100 [########################################                    ]  67% | 74.6 Hz\n",
      "t : 33 | vmax : 0.0 | vmin : 0.0\n",
      "\u001b[F\u001b[F                                                                                                    \n",
      "                                                                                                    \n",
      "\u001b[F\u001b[F68 / 100 [########################################                    ]  68% | 75.0 Hz\n",
      "t : 32 | vmax : 0.0 | vmin : 0.0\n",
      "\u001b[F\u001b[F                                                                                                    \n",
      "                                                                                                    \n",
      "\u001b[F\u001b[F69 / 100 [#########################################                   ]  69% | 74.6 Hz\n",
      "t : 31 | vmax : 0.0 | vmin : 0.0\n",
      "\u001b[F\u001b[F                                                                                                    \n",
      "                                                                                                    \n",
      "\u001b[F\u001b[F70 / 100 [##########################################                  ]  70% | 74.5 Hz\n",
      "t : 30 | vmax : 0.0 | vmin : 0.0\n",
      "\u001b[F\u001b[F                                                                                                    \n",
      "                                                                                                    \n",
      "\u001b[F\u001b[F71 / 100 [##########################################                  ]  71% | 74.8 Hz\n",
      "t : 29 | vmax : 0.0 | vmin : 0.0\n",
      "\u001b[F\u001b[F                                                                                                    \n",
      "                                                                                                    \n",
      "\u001b[F\u001b[F72 / 100 [###########################################                 ]  72% | 75.2 Hz\n",
      "t : 28 | vmax : 0.0 | vmin : 0.0\n",
      "\u001b[F\u001b[F                                                                                                    \n",
      "                                                                                                    \n",
      "\u001b[F\u001b[F73 / 100 [###########################################                 ]  73% | 75.6 Hz\n",
      "t : 27 | vmax : 0.0 | vmin : 0.0\n",
      "\u001b[F\u001b[F                                                                                                    \n",
      "                                                                                                    \n",
      "\u001b[F\u001b[F74 / 100 [############################################                ]  74% | 75.5 Hz\n",
      "t : 26 | vmax : 0.0 | vmin : 0.0\n",
      "\u001b[F\u001b[F                                                                                                    \n",
      "                                                                                                    \n",
      "\u001b[F\u001b[F75 / 100 [#############################################               ]  75% | 75.2 Hz\n",
      "t : 25 | vmax : 0.0 | vmin : 0.0\n",
      "\u001b[F\u001b[F                                                                                                    \n",
      "                                                                                                    \n",
      "\u001b[F\u001b[F76 / 100 [#############################################               ]  76% | 75.3 Hz\n",
      "t : 24 | vmax : 0.0 | vmin : 0.0\n",
      "\u001b[F\u001b[F                                                                                                    \n",
      "                                                                                                    \n",
      "\u001b[F\u001b[F77 / 100 [##############################################              ]  77% | 75.6 Hz\n",
      "t : 23 | vmax : 0.0 | vmin : 0.0\n",
      "\u001b[F\u001b[F                                                                                                    \n",
      "                                                                                                    \n",
      "\u001b[F\u001b[F78 / 100 [##############################################              ]  78% | 75.5 Hz\n",
      "t : 22 | vmax : 0.0 | vmin : 0.0\n",
      "\u001b[F\u001b[F                                                                                                    \n",
      "                                                                                                    \n",
      "\u001b[F\u001b[F79 / 100 [###############################################             ]  79% | 75.4 Hz\n",
      "t : 21 | vmax : 0.0 | vmin : 0.0\n",
      "\u001b[F\u001b[F                                                                                                    \n",
      "                                                                                                    \n",
      "\u001b[F\u001b[F80 / 100 [################################################            ]  80% | 75.7 Hz\n",
      "t : 20 | vmax : 0.0 | vmin : 0.0\n",
      "\u001b[F\u001b[F                                                                                                    \n",
      "                                                                                                    \n",
      "\u001b[F\u001b[F81 / 100 [################################################            ]  81% | 75.7 Hz\n",
      "t : 19 | vmax : 0.0 | vmin : 0.0\n",
      "\u001b[F\u001b[F                                                                                                    \n",
      "                                                                                                    \n",
      "\u001b[F\u001b[F82 / 100 [#################################################           ]  82% | 76.0 Hz\n",
      "t : 18 | vmax : 0.0 | vmin : 0.0\n",
      "\u001b[F\u001b[F                                                                                                    \n",
      "                                                                                                    \n",
      "\u001b[F\u001b[F83 / 100 [#################################################           ]  83% | 76.3 Hz\n",
      "t : 17 | vmax : 0.0 | vmin : 0.0\n",
      "\u001b[F\u001b[F                                                                                                    \n",
      "                                                                                                    \n",
      "\u001b[F\u001b[F84 / 100 [##################################################          ]  84% | 76.6 Hz\n",
      "t : 16 | vmax : 0.0 | vmin : 0.0\n",
      "\u001b[F\u001b[F                                                                                                    \n",
      "                                                                                                    \n",
      "\u001b[F\u001b[F85 / 100 [###################################################         ]  85% | 76.8 Hz\n",
      "t : 15 | vmax : 0.0 | vmin : 0.0\n",
      "\u001b[F\u001b[F                                                                                                    \n",
      "                                                                                                    \n",
      "\u001b[F\u001b[F86 / 100 [###################################################         ]  86% | 77.1 Hz\n",
      "t : 14 | vmax : 0.0 | vmin : 0.0\n",
      "\u001b[F\u001b[F                                                                                                    \n",
      "                                                                                                    \n",
      "\u001b[F\u001b[F87 / 100 [####################################################        ]  87% | 77.1 Hz\n",
      "t : 13 | vmax : 0.0 | vmin : 0.0\n",
      "\u001b[F\u001b[F                                                                                                    \n",
      "                                                                                                    \n",
      "\u001b[F\u001b[F88 / 100 [####################################################        ]  88% | 77.4 Hz\n",
      "t : 12 | vmax : 0.0 | vmin : 0.0\n",
      "\u001b[F\u001b[F                                                                                                    \n",
      "                                                                                                    \n",
      "\u001b[F\u001b[F89 / 100 [#####################################################       ]  89% | 77.6 Hz\n",
      "t : 11 | vmax : 0.0 | vmin : 0.0\n",
      "\u001b[F\u001b[F                                                                                                    \n",
      "                                                                                                    \n",
      "\u001b[F\u001b[F90 / 100 [######################################################      ]  90% | 77.8 Hz\n",
      "t : 10 | vmax : 0.0 | vmin : 0.0\n",
      "\u001b[F\u001b[F                                                                                                    \n",
      "                                                                                                    \n",
      "\u001b[F\u001b[F91 / 100 [######################################################      ]  91% | 78.0 Hz\n",
      "t : 9 | vmax : 0.0 | vmin : 0.0\n",
      "\u001b[F\u001b[F                                                                                                    \n",
      "                                                                                                    \n",
      "\u001b[F\u001b[F92 / 100 [#######################################################     ]  92% | 78.3 Hz\n",
      "t : 8 | vmax : 0.0 | vmin : 0.0\n",
      "\u001b[F\u001b[F                                                                                                    \n",
      "                                                                                                    \n",
      "\u001b[F\u001b[F93 / 100 [#######################################################     ]  93% | 78.5 Hz\n",
      "t : 7 | vmax : 0.0 | vmin : 0.0\n",
      "\u001b[F\u001b[F                                                                                                    \n",
      "                                                                                                    \n",
      "\u001b[F\u001b[F94 / 100 [########################################################    ]  94% | 78.8 Hz\n",
      "t : 6 | vmax : 0.0 | vmin : 0.0\n",
      "\u001b[F\u001b[F                                                                                                    \n",
      "                                                                                                    \n",
      "\u001b[F\u001b[F95 / 100 [#########################################################   ]  95% | 79.0 Hz\n",
      "t : 5 | vmax : 0.0 | vmin : 0.0\n",
      "\u001b[F\u001b[F                                                                                                    \n",
      "                                                                                                    \n",
      "\u001b[F\u001b[F96 / 100 [#########################################################   ]  96% | 79.2 Hz\n",
      "t : 4 | vmax : 0.0 | vmin : 0.0\n",
      "\u001b[F\u001b[F                                                                                                    \n",
      "                                                                                                    \n",
      "\u001b[F\u001b[F97 / 100 [##########################################################  ]  97% | 79.4 Hz\n",
      "t : 3 | vmax : 0.0 | vmin : 0.0\n",
      "\u001b[F\u001b[F                                                                                                    \n",
      "                                                                                                    \n",
      "\u001b[F\u001b[F98 / 100 [##########################################################  ]  98% | 79.7 Hz\n",
      "t : 2 | vmax : 0.0 | vmin : 0.0\n",
      "\u001b[F\u001b[F                                                                                                    \n",
      "                                                                                                    \n",
      "\u001b[F\u001b[F99 / 100 [########################################################### ]  99% | 79.7 Hz\n",
      "t : 1 | vmax : 0.0 | vmin : 0.0\n",
      "\u001b[F\u001b[F                                                                                                    \n",
      "                                                                                                    \n",
      "\u001b[F\u001b[F100 / 100 [############################################################] 100% | 0.0 Hz\n",
      "t : 0 | vmax : 0.0 | vmin : 0.0\n",
      "\u001b[F\u001b[F                                                                                                    \n",
      "                                                                                                    \n",
      "\u001b[F\u001b[F[ Progress ] 100 / 100 | t : 0 | vmax : 0.0 | vmin : 0.0 | 79.7 Hz\n"
     ]
    }
   ],
   "source": [
    "from diffuser.utils import batchify\n",
    "test = dataset[0]\n",
    "batch = batchify(test)\n",
    "sample = diffusion.p_sample_loop(batch.trajectories.shape, batch.conditions)"
   ]
  },
  {
   "cell_type": "markdown",
   "metadata": {},
   "source": [
    "### Sanity check to check if output is similar to train data"
   ]
  },
  {
   "cell_type": "code",
   "execution_count": 14,
   "metadata": {},
   "outputs": [
    {
     "data": {
      "text/plain": [
       "(Sample(trajectories=tensor([[[-0.0024,  0.0256,  0.8210,  ..., -0.1627,  0.0534,  0.4475],\n",
       "          [ 0.0069,  0.0330,  0.8048,  ..., -0.1494, -0.0576,  0.4609],\n",
       "          [-0.0047,  0.0363,  0.8009,  ..., -0.0756, -0.1584,  0.4538],\n",
       "          ...,\n",
       "          [ 0.1604,  1.0353,  0.9207,  ..., -0.2798,  0.4971,  0.3876],\n",
       "          [ 0.1631,  0.9910,  0.9145,  ..., -0.2420,  0.3584,  0.3468],\n",
       "          [ 0.1046,  1.0092,  0.8873,  ..., -0.1935,  0.2311,  0.3411]]],\n",
       "        device='cuda:0'), values=tensor([0.], device='cuda:0'), chains=None),\n",
       " torch.Size([1, 96, 35]))"
      ]
     },
     "execution_count": 14,
     "metadata": {},
     "output_type": "execute_result"
    }
   ],
   "source": [
    "sample, sample.trajectories.shape"
   ]
  },
  {
   "cell_type": "code",
   "execution_count": 15,
   "metadata": {},
   "outputs": [
    {
     "data": {
      "text/plain": [
       "(Batch(trajectories=tensor([[ 0.0000,  0.0000,  0.8412,  ..., -0.1657,  0.0620,  0.4363],\n",
       "         [-0.0042,  0.0209,  0.8239,  ..., -0.1308, -0.0612,  0.4480],\n",
       "         [-0.0077,  0.0406,  0.8073,  ..., -0.0710, -0.1537,  0.4579],\n",
       "         ...,\n",
       "         [ 0.1867,  1.0700,  0.9073,  ..., -0.2866,  0.4868,  0.3938],\n",
       "         [ 0.1925,  1.0912,  0.8936,  ..., -0.2435,  0.3195,  0.3669],\n",
       "         [ 0.1964,  1.1110,  0.8786,  ..., -0.2187,  0.1812,  0.3456]]), conditions={0: tensor([ 0.0000e+00,  0.0000e+00,  8.4124e-01,  9.6470e-01,  1.3950e-01,\n",
       "          2.2107e-01, -3.1969e-02, -1.7036e-01,  3.3696e-01, -7.5271e-02,\n",
       "         -4.6382e-01, -3.1054e-01,  5.7588e-01,  2.9469e+00, -6.9392e-01,\n",
       "         -2.2105e+00,  8.0813e-01,  2.3368e+00,  9.4218e-05,  5.6050e-01,\n",
       "          1.7677e-01, -6.8921e-02, -2.9141e-01, -7.8512e-01, -8.8701e-01,\n",
       "          6.5749e-01,  1.6143e-01, -2.8303e-01,  6.4449e-03, -7.9685e-01,\n",
       "          4.2248e-01, -5.1729e-01, -1.6569e-01,  6.1982e-02,  4.3629e-01])}),\n",
       " torch.Size([96, 35]))"
      ]
     },
     "execution_count": 15,
     "metadata": {},
     "output_type": "execute_result"
    }
   ],
   "source": [
    "dataset[0], dataset[0].trajectories.shape"
   ]
  },
  {
   "cell_type": "markdown",
   "metadata": {},
   "source": [
    "### Check if constrained sampling is working\n",
    "\n",
    "The values at index 13 to 20 should be 0 to look like its carrying a box"
   ]
  },
  {
   "cell_type": "code",
   "execution_count": 16,
   "metadata": {},
   "outputs": [
    {
     "name": "stdout",
     "output_type": "stream",
     "text": [
      "tensor([-0.0024,  0.0256,  0.8210,  0.9615,  0.1420,  0.2100, -0.0322, -0.1775,\n",
      "         0.3124, -0.0610, -0.4714, -0.3113,  0.5670,  0.0000,  0.0000,  0.0000,\n",
      "         1.5700,  0.0000,  0.0000,  0.0000,  1.5700, -0.0451, -0.3067, -0.7929,\n",
      "        -0.8872,  0.6484,  0.1866, -0.2729, -0.0048, -0.7787,  0.4097, -0.5273,\n",
      "        -0.1627,  0.0534,  0.4475], device='cuda:0')\n"
     ]
    }
   ],
   "source": [
    "print(sample[0][0][0])"
   ]
  },
  {
   "cell_type": "markdown",
   "metadata": {},
   "source": [
    "### Save results to logs"
   ]
  },
  {
   "cell_type": "code",
   "execution_count": 17,
   "metadata": {},
   "outputs": [
    {
     "name": "stdout",
     "output_type": "stream",
     "text": [
      "Motion 0 saved as motion1.npy\n"
     ]
    }
   ],
   "source": [
    "import numpy as np\n",
    "\n",
    "\n",
    "def save_motions(sample, output_dir, filename=\"motion.npy\"):\n",
    "    filepath = os.path.join(output_dir, filename)\n",
    "    pos_data = sample.trajectories.squeeze(0).cpu().numpy()\n",
    "    np.save(filepath, pos_data)\n",
    "    print(f\"Motion {i} saved as {filename}\")\n",
    "\n",
    "\n",
    "save_motions(sample, f\"{savepath}/sampled_motions\", filename=\"motion1.npy\")"
   ]
  },
  {
   "cell_type": "code",
   "execution_count": null,
   "metadata": {},
   "outputs": [],
   "source": []
  }
 ],
 "metadata": {
  "kernelspec": {
   "display_name": "fyp",
   "language": "python",
   "name": "python3"
  },
  "language_info": {
   "codemirror_mode": {
    "name": "ipython",
    "version": 3
   },
   "file_extension": ".py",
   "mimetype": "text/x-python",
   "name": "python",
   "nbconvert_exporter": "python",
   "pygments_lexer": "ipython3",
   "version": "3.8.18"
  }
 },
 "nbformat": 4,
 "nbformat_minor": 2
}
